{
 "cells": [
  {
   "cell_type": "markdown",
   "metadata": {},
   "source": [
    "word = input('Введите любое слово \\n')\n",
    "b = str(len(word))\n",
    "print(b)\n"
   ]
  },
  {
   "cell_type": "code",
   "execution_count": 1,
   "metadata": {},
   "outputs": [
    {
     "data": {
      "text/plain": [
       "58"
      ]
     },
     "execution_count": 1,
     "metadata": {},
     "output_type": "execute_result"
    }
   ],
   "source": [
    "proverb = 'Программисты - это устройства, преобразующие кофеин в код.'\n",
    "len(proverb)"
   ]
  },
  {
   "cell_type": "code",
   "execution_count": 2,
   "metadata": {},
   "outputs": [
    {
     "data": {
      "text/plain": [
       "'Программисты'"
      ]
     },
     "execution_count": 2,
     "metadata": {},
     "output_type": "execute_result"
    }
   ],
   "source": [
    "proverb[0:12]"
   ]
  },
  {
   "cell_type": "code",
   "execution_count": 3,
   "metadata": {},
   "outputs": [
    {
     "name": "stdout",
     "output_type": "stream",
     "text": [
      "Вы - самый крутой студент в SkillFactory"
     ]
    }
   ],
   "source": [
    "string = 'Вы - самый крутой студент в SkillFactory'\n",
    "for letter in string:\n",
    "    print(letter, end = '')"
   ]
  },
  {
   "cell_type": "code",
   "execution_count": 4,
   "metadata": {},
   "outputs": [],
   "source": [
    "rainbow_dict = {'каждый': 'красный', \n",
    "                'охотник': 'оранжевый', \n",
    "                'желает': 'жёлтый', \n",
    "                'знать': 'зелёный', \n",
    "                'где': 'голубой', \n",
    "                'сидит': 'синий', \n",
    "                'фазан': 'фиолетовый'}"
   ]
  },
  {
   "cell_type": "code",
   "execution_count": 5,
   "metadata": {},
   "outputs": [
    {
     "name": "stdout",
     "output_type": "stream",
     "text": [
      "каждый\n",
      "охотник\n",
      "желает\n",
      "знать\n",
      "где\n",
      "сидит\n",
      "фазан\n"
     ]
    }
   ],
   "source": [
    "for keys in rainbow_dict.keys():\n",
    "    print(keys)"
   ]
  },
  {
   "cell_type": "code",
   "execution_count": 6,
   "metadata": {},
   "outputs": [
    {
     "name": "stdout",
     "output_type": "stream",
     "text": [
      "красный\n",
      "оранжевый\n",
      "жёлтый\n",
      "зелёный\n",
      "голубой\n",
      "синий\n",
      "фиолетовый\n"
     ]
    }
   ],
   "source": [
    "for values in rainbow_dict.values():\n",
    "    print(values)"
   ]
  },
  {
   "cell_type": "code",
   "execution_count": 7,
   "metadata": {},
   "outputs": [
    {
     "name": "stdout",
     "output_type": "stream",
     "text": [
      "каждый красный\n",
      "охотник оранжевый\n",
      "желает жёлтый\n",
      "знать зелёный\n",
      "где голубой\n",
      "сидит синий\n",
      "фазан фиолетовый\n"
     ]
    }
   ],
   "source": [
    "for keys,values in rainbow_dict.items():\n",
    "    print(keys,values)"
   ]
  },
  {
   "cell_type": "code",
   "execution_count": 8,
   "metadata": {},
   "outputs": [],
   "source": [
    "proverb = 'Программисты - это устройства, преобразующие кофеин в код.'"
   ]
  },
  {
   "cell_type": "code",
   "execution_count": 9,
   "metadata": {},
   "outputs": [],
   "source": [
    "result = proverb.split(',')"
   ]
  },
  {
   "cell_type": "code",
   "execution_count": 10,
   "metadata": {},
   "outputs": [
    {
     "data": {
      "text/plain": [
       "['Программисты - это устройства', ' преобразующие кофеин в код.']"
      ]
     },
     "execution_count": 10,
     "metadata": {},
     "output_type": "execute_result"
    }
   ],
   "source": [
    "result"
   ]
  },
  {
   "cell_type": "code",
   "execution_count": 11,
   "metadata": {},
   "outputs": [],
   "source": [
    "result = proverb.split()[3][:-2]+'о'"
   ]
  },
  {
   "cell_type": "code",
   "execution_count": 12,
   "metadata": {},
   "outputs": [
    {
     "data": {
      "text/plain": [
       "'устройство'"
      ]
     },
     "execution_count": 12,
     "metadata": {},
     "output_type": "execute_result"
    }
   ],
   "source": [
    "result"
   ]
  },
  {
   "cell_type": "code",
   "execution_count": 13,
   "metadata": {},
   "outputs": [],
   "source": [
    "result = proverb.split()"
   ]
  },
  {
   "cell_type": "code",
   "execution_count": 14,
   "metadata": {},
   "outputs": [
    {
     "data": {
      "text/plain": [
       "['Программисты',\n",
       " '-',\n",
       " 'это',\n",
       " 'устройства,',\n",
       " 'преобразующие',\n",
       " 'кофеин',\n",
       " 'в',\n",
       " 'код.']"
      ]
     },
     "execution_count": 14,
     "metadata": {},
     "output_type": "execute_result"
    }
   ],
   "source": [
    "result"
   ]
  },
  {
   "cell_type": "code",
   "execution_count": 15,
   "metadata": {},
   "outputs": [],
   "source": [
    "result = proverb.split()[3]"
   ]
  },
  {
   "cell_type": "code",
   "execution_count": 16,
   "metadata": {},
   "outputs": [
    {
     "data": {
      "text/plain": [
       "'устройства,'"
      ]
     },
     "execution_count": 16,
     "metadata": {},
     "output_type": "execute_result"
    }
   ],
   "source": [
    "result"
   ]
  },
  {
   "cell_type": "code",
   "execution_count": 17,
   "metadata": {},
   "outputs": [],
   "source": [
    "results = [\n",
    "\t{'cost': 98, 'source': 'vk'},\n",
    "\t{'cost': 153, 'source': 'yandex'},\n",
    "\t{'cost': 110, 'source': 'facebook'},\n",
    "]"
   ]
  },
  {
   "cell_type": "code",
   "execution_count": 18,
   "metadata": {},
   "outputs": [
    {
     "name": "stdout",
     "output_type": "stream",
     "text": [
      "{'cost': 98, 'source': 'vk'}\n",
      "{'cost': 153, 'source': 'yandex'}\n",
      "{'cost': 110, 'source': 'facebook'}\n"
     ]
    }
   ],
   "source": [
    "for item in results:\n",
    "    print (item)"
   ]
  },
  {
   "cell_type": "code",
   "execution_count": 19,
   "metadata": {},
   "outputs": [
    {
     "name": "stdout",
     "output_type": "stream",
     "text": [
      "98\n",
      "153\n",
      "110\n"
     ]
    }
   ],
   "source": [
    "for item in results:\n",
    "    print(item['cost'])"
   ]
  },
  {
   "cell_type": "code",
   "execution_count": 20,
   "metadata": {},
   "outputs": [
    {
     "name": "stdout",
     "output_type": "stream",
     "text": [
      "98\n"
     ]
    }
   ],
   "source": [
    "new_list = []\n",
    "for item in results:\n",
    "    new_list.append(item['cost'])\n",
    "print(min(new_list))\n",
    "   \n",
    "    "
   ]
  },
  {
   "cell_type": "code",
   "execution_count": 21,
   "metadata": {},
   "outputs": [
    {
     "data": {
      "text/plain": [
       "98"
      ]
     },
     "execution_count": 21,
     "metadata": {},
     "output_type": "execute_result"
    }
   ],
   "source": [
    "results[0]['cost']"
   ]
  },
  {
   "cell_type": "code",
   "execution_count": 22,
   "metadata": {},
   "outputs": [],
   "source": [
    "defect_stats = [\n",
    "\t{'step number': 1, 'damage': 0.98},\n",
    "\t{'step number': 2, 'damage': 0.99},\n",
    "\t{'step number': 3, 'damage': 0.99},\n",
    "\t{'step number': 4, 'damage': 0.96},\n",
    "\t{'step number': 5, 'damage': 0.97},\n",
    "\t{'step number': 6, 'damage': 0.97},\n",
    "]"
   ]
  },
  {
   "cell_type": "code",
   "execution_count": 23,
   "metadata": {},
   "outputs": [
    {
     "name": "stdout",
     "output_type": "stream",
     "text": [
      "5\n"
     ]
    }
   ],
   "source": [
    "a = 100\n",
    "for item in defect_stats:   \n",
    "    a*=item['damage']\n",
    "    if a <= 90:\n",
    "        break\n",
    "print(item['step number'])\n",
    "        "
   ]
  },
  {
   "cell_type": "code",
   "execution_count": 24,
   "metadata": {},
   "outputs": [],
   "source": [
    "fghj = 'fgh tyu cvbn yui cv sdf'.split()"
   ]
  },
  {
   "cell_type": "code",
   "execution_count": 25,
   "metadata": {},
   "outputs": [
    {
     "data": {
      "text/plain": [
       "['fgh', 'tyu', 'cvbn', 'yui', 'cv', 'sdf']"
      ]
     },
     "execution_count": 25,
     "metadata": {},
     "output_type": "execute_result"
    }
   ],
   "source": [
    "fghj"
   ]
  },
  {
   "cell_type": "code",
   "execution_count": 26,
   "metadata": {},
   "outputs": [],
   "source": [
    "fghj = 'fgh, tyu, cvbn, yui, cv, sdf'.split(',')"
   ]
  },
  {
   "cell_type": "code",
   "execution_count": 27,
   "metadata": {},
   "outputs": [
    {
     "data": {
      "text/plain": [
       "['fgh', ' tyu', ' cvbn', ' yui', ' cv', ' sdf']"
      ]
     },
     "execution_count": 27,
     "metadata": {},
     "output_type": "execute_result"
    }
   ],
   "source": [
    "fghj"
   ]
  },
  {
   "cell_type": "code",
   "execution_count": 28,
   "metadata": {},
   "outputs": [],
   "source": [
    "fghj = 'fgh, tyu, cvbn, yui, cv, sdf'.split()"
   ]
  },
  {
   "cell_type": "code",
   "execution_count": 29,
   "metadata": {},
   "outputs": [
    {
     "data": {
      "text/plain": [
       "['fgh,', 'tyu,', 'cvbn,', 'yui,', 'cv,', 'sdf']"
      ]
     },
     "execution_count": 29,
     "metadata": {},
     "output_type": "execute_result"
    }
   ],
   "source": [
    "fghj "
   ]
  },
  {
   "cell_type": "code",
   "execution_count": 30,
   "metadata": {},
   "outputs": [],
   "source": [
    "my_list = '10,11,12,13,14,15,16,17,18,19'.split()"
   ]
  },
  {
   "cell_type": "code",
   "execution_count": 31,
   "metadata": {},
   "outputs": [
    {
     "data": {
      "text/plain": [
       "['10,11,12,13,14,15,16,17,18,19']"
      ]
     },
     "execution_count": 31,
     "metadata": {},
     "output_type": "execute_result"
    }
   ],
   "source": [
    "my_list"
   ]
  },
  {
   "cell_type": "code",
   "execution_count": 32,
   "metadata": {},
   "outputs": [
    {
     "data": {
      "text/plain": [
       "'10,11,12,13,14,15,16,17,18,19'"
      ]
     },
     "execution_count": 32,
     "metadata": {},
     "output_type": "execute_result"
    }
   ],
   "source": [
    "my_list[0]"
   ]
  },
  {
   "cell_type": "code",
   "execution_count": 33,
   "metadata": {},
   "outputs": [],
   "source": [
    "my_list = '10,11,12,13,14,15,16,17,18,19'.split(',')"
   ]
  },
  {
   "cell_type": "code",
   "execution_count": 34,
   "metadata": {},
   "outputs": [
    {
     "data": {
      "text/plain": [
       "['10', '11', '12', '13', '14', '15', '16', '17', '18', '19']"
      ]
     },
     "execution_count": 34,
     "metadata": {},
     "output_type": "execute_result"
    }
   ],
   "source": [
    "my_list"
   ]
  },
  {
   "cell_type": "code",
   "execution_count": 35,
   "metadata": {},
   "outputs": [
    {
     "data": {
      "text/plain": [
       "'10'"
      ]
     },
     "execution_count": 35,
     "metadata": {},
     "output_type": "execute_result"
    }
   ],
   "source": [
    "my_list[0]"
   ]
  },
  {
   "cell_type": "code",
   "execution_count": 36,
   "metadata": {},
   "outputs": [],
   "source": [
    "draw_dict = {\n",
    "\t'Россия': 'A',\n",
    "\t'Португалия': 'B',\n",
    "\t'Франция': 'C',\n",
    "\t'Дания': 'C',\n",
    "\t'Египет': 'A'\n",
    "}"
   ]
  },
  {
   "cell_type": "code",
   "execution_count": 37,
   "metadata": {},
   "outputs": [
    {
     "name": "stdout",
     "output_type": "stream",
     "text": [
      "A\n",
      "B\n",
      "C\n",
      "C\n",
      "A\n"
     ]
    }
   ],
   "source": [
    "for k,v in draw_dict.items():\n",
    "    if k in draw_dict:\n",
    "        print (v)\n",
    "    "
   ]
  },
  {
   "cell_type": "code",
   "execution_count": 38,
   "metadata": {},
   "outputs": [],
   "source": [
    "k = 'rty'"
   ]
  },
  {
   "cell_type": "code",
   "execution_count": 39,
   "metadata": {},
   "outputs": [
    {
     "name": "stdout",
     "output_type": "stream",
     "text": [
      "A\n",
      "B\n",
      "C\n",
      "C\n",
      "A\n"
     ]
    }
   ],
   "source": [
    "for k,v in draw_dict.items():\n",
    "    if k in draw_dict:\n",
    "        print (v)\n",
    "    else:\n",
    "        print ('v')"
   ]
  },
  {
   "cell_type": "code",
   "execution_count": 40,
   "metadata": {},
   "outputs": [
    {
     "name": "stdout",
     "output_type": "stream",
     "text": [
      "A\n",
      "B\n",
      "C\n",
      "C\n",
      "A\n"
     ]
    }
   ],
   "source": [
    "k = 'dfgh'\n",
    "for k,v in draw_dict.items():\n",
    "    if k in draw_dict:\n",
    "        print (v)\n",
    "    else:\n",
    "        print ('v')"
   ]
  },
  {
   "cell_type": "code",
   "execution_count": 41,
   "metadata": {},
   "outputs": [],
   "source": [
    "draw_dict = {\n",
    "\t'Россия': 'A',\n",
    "\t'Португалия': 'B',\n",
    "\t'Франция': 'C',\n",
    "\t'Дания': 'C',\n",
    "\t'Египет': 'A'\n",
    "}"
   ]
  },
  {
   "cell_type": "code",
   "execution_count": 42,
   "metadata": {},
   "outputs": [
    {
     "name": "stdout",
     "output_type": "stream",
     "text": [
      "fgh\n"
     ]
    }
   ],
   "source": [
    "country = 'Италия'\n",
    "if country in draw_dict.keys():\n",
    "    print (draw_dict[country])\n",
    "else:\n",
    "    print ('fgh')"
   ]
  },
  {
   "cell_type": "code",
   "execution_count": 43,
   "metadata": {},
   "outputs": [
    {
     "name": "stdout",
     "output_type": "stream",
     "text": [
      "B\n"
     ]
    }
   ],
   "source": [
    "country = 'Португалия'\n",
    "if country in draw_dict.keys():\n",
    "    group = draw_dict[country]\n",
    "else:\n",
    "    group = 'unknown'\n",
    "print (group)"
   ]
  },
  {
   "cell_type": "code",
   "execution_count": 44,
   "metadata": {},
   "outputs": [
    {
     "name": "stdout",
     "output_type": "stream",
     "text": [
      "A\n"
     ]
    }
   ],
   "source": [
    "country = 'Египет'\n",
    "if country in draw_dict:\n",
    "    group = draw_dict[country]\n",
    "else:\n",
    "    draw_dict.setdefault(country,'unknown')\n",
    "print (group)"
   ]
  },
  {
   "cell_type": "code",
   "execution_count": 45,
   "metadata": {},
   "outputs": [
    {
     "data": {
      "text/plain": [
       "{'Россия': 'A', 'Португалия': 'B', 'Франция': 'C', 'Дания': 'C', 'Египет': 'A'}"
      ]
     },
     "execution_count": 45,
     "metadata": {},
     "output_type": "execute_result"
    }
   ],
   "source": [
    "draw_dict"
   ]
  },
  {
   "cell_type": "code",
   "execution_count": 46,
   "metadata": {},
   "outputs": [],
   "source": [
    "currency = {\n",
    "\t'AMD': {\n",
    "\t\t'Name': 'Армянских драмов',\n",
    "\t\t'Nominal': 100,\n",
    "\t\t'Value': 13.121\n",
    "\t},\n",
    "\n",
    "\t'AUD': {\n",
    "\t\t'Name': 'Австралийский доллар',\n",
    "\t\t'Nominal': 1,\n",
    "\t\t'Value': 45.5309\n",
    "\t},\n",
    "\n",
    "\t'INR': {\n",
    "\t\t'Name': 'Индийских рупий',\n",
    "\t\t'Nominal': 100,\n",
    "\t\t'Value': 92.9658\n",
    "\t},\n",
    "\n",
    "\t'MDL': {\n",
    "\t\t'Name': 'Молдавских леев',\n",
    "\t\t'Nominal': 10,\n",
    "\t\t'Value': 36.9305\n",
    "\t},\n",
    "}\n"
   ]
  },
  {
   "cell_type": "code",
   "execution_count": 48,
   "metadata": {},
   "outputs": [
    {
     "data": {
      "text/plain": [
       "45.5309"
      ]
     },
     "execution_count": 48,
     "metadata": {},
     "output_type": "execute_result"
    }
   ],
   "source": [
    "currency['AUD']['Value']/currency['AUD']['Nominal']"
   ]
  },
  {
   "cell_type": "code",
   "execution_count": 49,
   "metadata": {},
   "outputs": [
    {
     "data": {
      "text/plain": [
       "3.6930500000000004"
      ]
     },
     "execution_count": 49,
     "metadata": {},
     "output_type": "execute_result"
    }
   ],
   "source": [
    "currency['MDL']['Value']/currency['MDL']['Nominal']"
   ]
  },
  {
   "cell_type": "code",
   "execution_count": 50,
   "metadata": {},
   "outputs": [
    {
     "ename": "TypeError",
     "evalue": "string indices must be integers",
     "output_type": "error",
     "traceback": [
      "\u001b[0;31m---------------------------------------------------------------------------\u001b[0m",
      "\u001b[0;31mTypeError\u001b[0m                                 Traceback (most recent call last)",
      "\u001b[0;32m<ipython-input-50-3a4f28fd92bf>\u001b[0m in \u001b[0;36m<module>\u001b[0;34m\u001b[0m\n\u001b[1;32m      1\u001b[0m \u001b[0mnew_list\u001b[0m \u001b[0;34m=\u001b[0m \u001b[0;34m[\u001b[0m\u001b[0;34m]\u001b[0m\u001b[0;34m\u001b[0m\u001b[0;34m\u001b[0m\u001b[0m\n\u001b[1;32m      2\u001b[0m \u001b[0;32mfor\u001b[0m \u001b[0mitem\u001b[0m \u001b[0;32min\u001b[0m \u001b[0mcurrency\u001b[0m\u001b[0;34m:\u001b[0m\u001b[0;34m\u001b[0m\u001b[0;34m\u001b[0m\u001b[0m\n\u001b[0;32m----> 3\u001b[0;31m     \u001b[0mnew_list\u001b[0m\u001b[0;34m.\u001b[0m\u001b[0mappend\u001b[0m\u001b[0;34m(\u001b[0m\u001b[0;34m(\u001b[0m\u001b[0mitem\u001b[0m\u001b[0;34m[\u001b[0m\u001b[0;34m'Value'\u001b[0m\u001b[0;34m]\u001b[0m\u001b[0;34m)\u001b[0m\u001b[0;34m/\u001b[0m\u001b[0;34m(\u001b[0m\u001b[0mitem\u001b[0m\u001b[0;34m[\u001b[0m\u001b[0;34m'Nominal'\u001b[0m\u001b[0;34m]\u001b[0m\u001b[0;34m)\u001b[0m\u001b[0;34m)\u001b[0m\u001b[0;34m\u001b[0m\u001b[0;34m\u001b[0m\u001b[0m\n\u001b[0m\u001b[1;32m      4\u001b[0m \u001b[0;34m\u001b[0m\u001b[0m\n",
      "\u001b[0;31mTypeError\u001b[0m: string indices must be integers"
     ]
    }
   ],
   "source": [
    "new_list = []\n",
    "for item in currency:\n",
    "    new_list.append((item['Value'])/(item['Nominal']))\n",
    "        "
   ]
  },
  {
   "cell_type": "code",
   "execution_count": 51,
   "metadata": {},
   "outputs": [],
   "source": [
    "val={}\n",
    "for (k, v) in currency.items():\n",
    "    val[k]=v['Value'] / v['Nominal']"
   ]
  },
  {
   "cell_type": "code",
   "execution_count": 52,
   "metadata": {},
   "outputs": [
    {
     "ename": "NameError",
     "evalue": "name 'stat' is not defined",
     "output_type": "error",
     "traceback": [
      "\u001b[0;31m---------------------------------------------------------------------------\u001b[0m",
      "\u001b[0;31mNameError\u001b[0m                                 Traceback (most recent call last)",
      "\u001b[0;32m<ipython-input-52-5e9c214bab50>\u001b[0m in \u001b[0;36m<module>\u001b[0;34m\u001b[0m\n\u001b[1;32m      1\u001b[0m \u001b[0mcurrencies\u001b[0m \u001b[0;34m=\u001b[0m \u001b[0;34m[\u001b[0m\u001b[0;34m]\u001b[0m\u001b[0;34m\u001b[0m\u001b[0;34m\u001b[0m\u001b[0m\n\u001b[1;32m      2\u001b[0m \u001b[0mrate\u001b[0m \u001b[0;34m=\u001b[0m \u001b[0;34m[\u001b[0m\u001b[0;34m]\u001b[0m\u001b[0;34m\u001b[0m\u001b[0;34m\u001b[0m\u001b[0m\n\u001b[0;32m----> 3\u001b[0;31m \u001b[0;32mfor\u001b[0m \u001b[0mcurrency\u001b[0m \u001b[0;32min\u001b[0m \u001b[0mstat\u001b[0m\u001b[0;34m:\u001b[0m\u001b[0;34m\u001b[0m\u001b[0;34m\u001b[0m\u001b[0m\n\u001b[0m\u001b[1;32m      4\u001b[0m     \u001b[0mcurrencies\u001b[0m\u001b[0;34m.\u001b[0m\u001b[0mappend\u001b[0m\u001b[0;34m(\u001b[0m\u001b[0mcurrency\u001b[0m\u001b[0;34m[\u001b[0m\u001b[0;34m:\u001b[0m\u001b[0;34m]\u001b[0m\u001b[0;34m)\u001b[0m\u001b[0;34m\u001b[0m\u001b[0;34m\u001b[0m\u001b[0m\n\u001b[1;32m      5\u001b[0m     \u001b[0mrate\u001b[0m\u001b[0;34m.\u001b[0m\u001b[0mappend\u001b[0m\u001b[0;34m(\u001b[0m\u001b[0mstat\u001b[0m\u001b[0;34m[\u001b[0m\u001b[0mcurrency\u001b[0m\u001b[0;34m[\u001b[0m\u001b[0;34m:\u001b[0m\u001b[0;34m]\u001b[0m\u001b[0;34m]\u001b[0m\u001b[0;34m[\u001b[0m\u001b[0;34m'Value'\u001b[0m\u001b[0;34m]\u001b[0m\u001b[0;34m/\u001b[0m\u001b[0mstat\u001b[0m\u001b[0;34m[\u001b[0m\u001b[0mcurrency\u001b[0m\u001b[0;34m[\u001b[0m\u001b[0;34m:\u001b[0m\u001b[0;34m]\u001b[0m\u001b[0;34m]\u001b[0m\u001b[0;34m[\u001b[0m\u001b[0;34m'Nominal'\u001b[0m\u001b[0;34m]\u001b[0m\u001b[0;34m)\u001b[0m\u001b[0;34m\u001b[0m\u001b[0;34m\u001b[0m\u001b[0m\n",
      "\u001b[0;31mNameError\u001b[0m: name 'stat' is not defined"
     ]
    }
   ],
   "source": [
    "currencies = []\n",
    "rate = []\n",
    "for currency in stat:\n",
    "    currencies.append(currency[:])\n",
    "    rate.append(stat[currency[:]]['Value']/stat[currency[:]]['Nominal'])\n",
    "min_rate = min(rate[:])\n",
    "print(currencies[rate.index(min_rate)])"
   ]
  },
  {
   "cell_type": "code",
   "execution_count": 53,
   "metadata": {},
   "outputs": [
    {
     "name": "stdout",
     "output_type": "stream",
     "text": [
      "AMD\n"
     ]
    }
   ],
   "source": [
    "print(min(val, key=lambda x: val[x]))"
   ]
  },
  {
   "cell_type": "code",
   "execution_count": 54,
   "metadata": {},
   "outputs": [],
   "source": [
    "val = {k:v['Value'] / v['Nominal'] for (k, v) in currency.items()}"
   ]
  },
  {
   "cell_type": "code",
   "execution_count": 55,
   "metadata": {},
   "outputs": [
    {
     "data": {
      "text/plain": [
       "{'AMD': 0.13121, 'AUD': 45.5309, 'INR': 0.929658, 'MDL': 3.6930500000000004}"
      ]
     },
     "execution_count": 55,
     "metadata": {},
     "output_type": "execute_result"
    }
   ],
   "source": [
    "val"
   ]
  },
  {
   "cell_type": "code",
   "execution_count": 56,
   "metadata": {},
   "outputs": [
    {
     "data": {
      "text/plain": [
       "[0.13121, 45.5309, 0.929658, 3.6930500000000004]"
      ]
     },
     "execution_count": 56,
     "metadata": {},
     "output_type": "execute_result"
    }
   ],
   "source": [
    "new_list = []\n",
    "for item in currency.keys():\n",
    "    new_list.append((currency[item]['Value'])/(currency[item]['Nominal']))\n",
    "new_list"
   ]
  },
  {
   "cell_type": "code",
   "execution_count": 57,
   "metadata": {},
   "outputs": [
    {
     "ename": "TypeError",
     "evalue": "string indices must be integers",
     "output_type": "error",
     "traceback": [
      "\u001b[0;31m---------------------------------------------------------------------------\u001b[0m",
      "\u001b[0;31mTypeError\u001b[0m                                 Traceback (most recent call last)",
      "\u001b[0;32m<ipython-input-57-e75ec59542e9>\u001b[0m in \u001b[0;36m<module>\u001b[0;34m\u001b[0m\n\u001b[1;32m      2\u001b[0m \u001b[0;32mfor\u001b[0m \u001b[0mkey\u001b[0m \u001b[0;32min\u001b[0m \u001b[0mcurrency\u001b[0m\u001b[0;34m:\u001b[0m\u001b[0;34m\u001b[0m\u001b[0;34m\u001b[0m\u001b[0m\n\u001b[1;32m      3\u001b[0m     \u001b[0;32mfor\u001b[0m \u001b[0mkeys\u001b[0m \u001b[0;32min\u001b[0m \u001b[0mkey\u001b[0m\u001b[0;34m:\u001b[0m\u001b[0;34m\u001b[0m\u001b[0;34m\u001b[0m\u001b[0m\n\u001b[0;32m----> 4\u001b[0;31m         \u001b[0mwer_list\u001b[0m\u001b[0;34m.\u001b[0m\u001b[0mappend\u001b[0m\u001b[0;34m(\u001b[0m\u001b[0mkeys\u001b[0m\u001b[0;34m[\u001b[0m\u001b[0;34m'Value'\u001b[0m\u001b[0;34m]\u001b[0m\u001b[0;34m/\u001b[0m\u001b[0mkeys\u001b[0m\u001b[0;34m[\u001b[0m\u001b[0;34m'Nominal'\u001b[0m\u001b[0;34m]\u001b[0m\u001b[0;34m)\u001b[0m\u001b[0;34m\u001b[0m\u001b[0;34m\u001b[0m\u001b[0m\n\u001b[0m",
      "\u001b[0;31mTypeError\u001b[0m: string indices must be integers"
     ]
    }
   ],
   "source": [
    "wer_list = []\n",
    "for key in currency:\n",
    "    for keys in key:\n",
    "        wer_list.append(keys['Value']/keys['Nominal'])"
   ]
  },
  {
   "cell_type": "code",
   "execution_count": 58,
   "metadata": {},
   "outputs": [],
   "source": [
    "wer_list = []\n",
    "for key in currency:\n",
    "    for keys in currency[key]:\n",
    "        wer_list.append(currency[key]['Value']/currency[key]['Nominal'])"
   ]
  },
  {
   "cell_type": "code",
   "execution_count": 59,
   "metadata": {},
   "outputs": [],
   "source": [
    "bodycount = {\n",
    "\t'Проклятие Черной жемчужины': {\n",
    "\t\t'человек': 17\n",
    "\t}, \n",
    "\n",
    "\t'Сундук мертвеца': {\n",
    "\t\t'человек': 56,\n",
    "\t\t'раков-отшельников': 1\n",
    "\t},\n",
    "\n",
    "\t'На краю света': {\n",
    "\t\t'человек': 88\n",
    "\t},\n",
    "\n",
    "\t'На странных берегах': {\n",
    "\t\t'человек': 56,\n",
    "\t\t'русалок': 2,\n",
    "\t\t'ядовитых жаб': 3,\n",
    "\t\t'пиратов зомби': 2\n",
    "\t}\n",
    "}"
   ]
  },
  {
   "cell_type": "code",
   "execution_count": 60,
   "metadata": {},
   "outputs": [
    {
     "name": "stdout",
     "output_type": "stream",
     "text": [
      "Проклятие Черной жемчужины\n",
      "Сундук мертвеца\n",
      "На краю света\n",
      "На странных берегах\n"
     ]
    }
   ],
   "source": [
    "for key in bodycount:\n",
    "    print (key)"
   ]
  },
  {
   "cell_type": "code",
   "execution_count": 61,
   "metadata": {},
   "outputs": [
    {
     "name": "stdout",
     "output_type": "stream",
     "text": [
      "{'человек': 17}\n",
      "{'человек': 56, 'раков-отшельников': 1}\n",
      "{'человек': 88}\n",
      "{'человек': 56, 'русалок': 2, 'ядовитых жаб': 3, 'пиратов зомби': 2}\n"
     ]
    }
   ],
   "source": [
    "for key in bodycount:\n",
    "    print (bodycount[key])"
   ]
  },
  {
   "cell_type": "code",
   "execution_count": 62,
   "metadata": {},
   "outputs": [
    {
     "name": "stdout",
     "output_type": "stream",
     "text": [
      "('Проклятие Черной жемчужины', {'человек': 17})\n",
      "('Сундук мертвеца', {'человек': 56, 'раков-отшельников': 1})\n",
      "('На краю света', {'человек': 88})\n",
      "('На странных берегах', {'человек': 56, 'русалок': 2, 'ядовитых жаб': 3, 'пиратов зомби': 2})\n"
     ]
    }
   ],
   "source": [
    "for k in bodycount.items():\n",
    "        print (k)"
   ]
  },
  {
   "cell_type": "code",
   "execution_count": 63,
   "metadata": {},
   "outputs": [
    {
     "name": "stdout",
     "output_type": "stream",
     "text": [
      "{'человек': 17}\n",
      "{'человек': 56, 'раков-отшельников': 1}\n",
      "{'человек': 88}\n",
      "{'человек': 56, 'русалок': 2, 'ядовитых жаб': 3, 'пиратов зомби': 2}\n"
     ]
    }
   ],
   "source": [
    "for v in bodycount.values():\n",
    "        print (v)"
   ]
  },
  {
   "cell_type": "code",
   "execution_count": 64,
   "metadata": {},
   "outputs": [
    {
     "data": {
      "text/plain": [
       "225"
      ]
     },
     "execution_count": 64,
     "metadata": {},
     "output_type": "execute_result"
    }
   ],
   "source": [
    "fghj_list = []\n",
    "for v in bodycount.values():\n",
    "    for v_2 in v:\n",
    "        fghj_list.append(v[v_2])\n",
    "sum(fghj_list)"
   ]
  },
  {
   "cell_type": "markdown",
   "metadata": {},
   "source": [
    "proverb = 'Хорошо написанная программа - это программа, написанная 2 раза'\n",
    "\n",
    "while True:\n",
    "    index = proverb.find('программа')\n",
    "    if index == -1:\n",
    "    break"
   ]
  },
  {
   "cell_type": "code",
   "execution_count": 65,
   "metadata": {},
   "outputs": [
    {
     "ename": "NameError",
     "evalue": "name 'index' is not defined",
     "output_type": "error",
     "traceback": [
      "\u001b[0;31m---------------------------------------------------------------------------\u001b[0m",
      "\u001b[0;31mNameError\u001b[0m                                 Traceback (most recent call last)",
      "\u001b[0;32m<ipython-input-65-77f30dc70e69>\u001b[0m in \u001b[0;36m<module>\u001b[0;34m\u001b[0m\n\u001b[0;32m----> 1\u001b[0;31m \u001b[0msecret\u001b[0m \u001b[0;34m=\u001b[0m \u001b[0mproverb\u001b[0m\u001b[0;34m[\u001b[0m\u001b[0;34m:\u001b[0m\u001b[0mindex\u001b[0m\u001b[0;34m]\u001b[0m\u001b[0;34m.\u001b[0m\u001b[0msplit\u001b[0m\u001b[0;34m(\u001b[0m\u001b[0;34m)\u001b[0m\u001b[0;34m[\u001b[0m\u001b[0;34m-\u001b[0m\u001b[0;36m1\u001b[0m\u001b[0;34m]\u001b[0m\u001b[0;34m\u001b[0m\u001b[0;34m\u001b[0m\u001b[0m\n\u001b[0m\u001b[1;32m      2\u001b[0m \u001b[0mproverb\u001b[0m \u001b[0;34m=\u001b[0m \u001b[0mproverb\u001b[0m\u001b[0;34m[\u001b[0m\u001b[0mindex\u001b[0m\u001b[0;34m+\u001b[0m\u001b[0;36m9\u001b[0m\u001b[0;34m:\u001b[0m\u001b[0;34m]\u001b[0m\u001b[0;34m\u001b[0m\u001b[0;34m\u001b[0m\u001b[0m\n",
      "\u001b[0;31mNameError\u001b[0m: name 'index' is not defined"
     ]
    }
   ],
   "source": [
    "     \n",
    "    secret = proverb[:index].split()[-1]\n",
    "    proverb = proverb[index+9:] "
   ]
  },
  {
   "cell_type": "code",
   "execution_count": 66,
   "metadata": {},
   "outputs": [],
   "source": [
    "proverb = 'Хорошо написанная программа - это программа, написанная 2 раза'\n",
    "\n",
    "while True:\n",
    "    index = proverb.find('программа')\n",
    "    if index == -1:\n",
    "        break\n",
    "    secret = proverb[:index].split()[-1]\n",
    "    proverb = proverb[index+9:] "
   ]
  },
  {
   "cell_type": "code",
   "execution_count": 67,
   "metadata": {},
   "outputs": [
    {
     "data": {
      "text/plain": [
       "'это'"
      ]
     },
     "execution_count": 67,
     "metadata": {},
     "output_type": "execute_result"
    }
   ],
   "source": [
    "secret"
   ]
  },
  {
   "cell_type": "code",
   "execution_count": 68,
   "metadata": {},
   "outputs": [
    {
     "data": {
      "text/plain": [
       "', написанная 2 раза'"
      ]
     },
     "execution_count": 68,
     "metadata": {},
     "output_type": "execute_result"
    }
   ],
   "source": [
    "proverb"
   ]
  },
  {
   "cell_type": "code",
   "execution_count": 69,
   "metadata": {},
   "outputs": [],
   "source": [
    "proverb = 'Хорошо написанная программа - это программа, написанная 2 раза'"
   ]
  },
  {
   "cell_type": "code",
   "execution_count": 70,
   "metadata": {},
   "outputs": [
    {
     "data": {
      "text/plain": [
       "62"
      ]
     },
     "execution_count": 70,
     "metadata": {},
     "output_type": "execute_result"
    }
   ],
   "source": [
    "len(proverb)"
   ]
  },
  {
   "cell_type": "code",
   "execution_count": 71,
   "metadata": {},
   "outputs": [],
   "source": [
    "emails_list = ['vasya@mail.ru', \n",
    "          'akakiy@yandex.ru', \n",
    "          'spyderman@yandex.ru', \n",
    "          'XFiles@gmail.com', \n",
    "          'hello@mail.ru', \n",
    "          'noname@gmail.com', \n",
    "          'DonaldTrump@mail.ru', \n",
    "          'a768#af@yandex.ru', \n",
    "          'Ivan_Ivanovich@yandex.ru', \n",
    "          'thebestmail@yandex.ru']\n",
    "      "
   ]
  },
  {
   "cell_type": "code",
   "execution_count": 77,
   "metadata": {},
   "outputs": [
    {
     "name": "stdout",
     "output_type": "stream",
     "text": [
      "['mail.ru', 'yandex.ru', 'yandex.ru', 'gmail.com', 'mail.ru', 'gmail.com', 'mail.ru', 'yandex.ru', 'yandex.ru', 'yandex.ru']\n"
     ]
    }
   ],
   "source": [
    "new_list = []\n",
    "for emails in emails_list:\n",
    "    dom = emails.find('@')\n",
    "    domain = emails[dom+1:]\n",
    "    new_list.append(domain)\n",
    "print (new_list)\n",
    "    "
   ]
  },
  {
   "cell_type": "code",
   "execution_count": 79,
   "metadata": {},
   "outputs": [],
   "source": [
    "from collections import Counter"
   ]
  },
  {
   "cell_type": "code",
   "execution_count": 80,
   "metadata": {},
   "outputs": [
    {
     "data": {
      "text/plain": [
       "Counter({'mail.ru': 3, 'yandex.ru': 5, 'gmail.com': 2})"
      ]
     },
     "execution_count": 80,
     "metadata": {},
     "output_type": "execute_result"
    }
   ],
   "source": [
    "Counter(new_list)"
   ]
  },
  {
   "cell_type": "code",
   "execution_count": 81,
   "metadata": {},
   "outputs": [
    {
     "name": "stdout",
     "output_type": "stream",
     "text": [
      "Введите ДА или НЕТ: да\n",
      "Вы ответили \"ДА\"! Я счастлив!\n"
     ]
    }
   ],
   "source": [
    "answer = input('Введите ДА или НЕТ: ')\n",
    "if answer.lower() == 'да':\n",
    "    print('Вы ответили \"ДА\"! Я счастлив!')"
   ]
  },
  {
   "cell_type": "code",
   "execution_count": 85,
   "metadata": {},
   "outputs": [
    {
     "name": "stdout",
     "output_type": "stream",
     "text": [
      "Введите ДА или НЕТ: да\n",
      "Вы ответили \"ДА\"! Я счастлив!\n"
     ]
    }
   ],
   "source": [
    "answer = input('Введите ДА или НЕТ: ')\n",
    "if answer == 'да':\n",
    "    print('Вы ответили \"ДА\"! Я счастлив!')\n",
    "else:\n",
    "    print ('fghjk')"
   ]
  },
  {
   "cell_type": "code",
   "execution_count": 86,
   "metadata": {},
   "outputs": [],
   "source": [
    "text = 'Разработка языка Python была начата в конце 1'"
   ]
  },
  {
   "cell_type": "code",
   "execution_count": 87,
   "metadata": {},
   "outputs": [
    {
     "data": {
      "text/plain": [
       "45"
      ]
     },
     "execution_count": 87,
     "metadata": {},
     "output_type": "execute_result"
    }
   ],
   "source": [
    "len(text)"
   ]
  },
  {
   "cell_type": "code",
   "execution_count": 89,
   "metadata": {},
   "outputs": [],
   "source": [
    "f = open('StudentsPerformance.xls') "
   ]
  },
  {
   "cell_type": "code",
   "execution_count": 90,
   "metadata": {},
   "outputs": [
    {
     "name": "stdout",
     "output_type": "stream",
     "text": [
      "\"gender\",\"race/ethnicity\",\"parental level of education\",\"lunch\",\"test preparation course\",\"math score\",\"reading score\",\"writing score\"\n",
      "\n",
      "\"female\",\"group B\",\"bachelor's degree\",\"standard\",\"none\",\"72\",\"72\",\"74\"\n",
      "\n",
      "\"female\",\"group C\",\"some college\",\"standard\",\"completed\",\"69\",\"90\",\"88\"\n",
      "\n",
      "\"female\",\"group B\",\"master's degree\",\"standard\",\"none\",\"90\",\"95\",\"93\"\n",
      "\n",
      "\"male\",\"group A\",\"associate's degree\",\"free/reduced\",\"none\",\"47\",\"57\",\"44\"\n",
      "\n",
      "\"male\",\"group C\",\"some college\",\"standard\",\"none\",\"76\",\"78\",\"75\"\n",
      "\n",
      "\"female\",\"group B\",\"associate's degree\",\"standard\",\"none\",\"71\",\"83\",\"78\"\n",
      "\n",
      "\"female\",\"group B\",\"some college\",\"standard\",\"completed\",\"88\",\"95\",\"92\"\n",
      "\n",
      "\"male\",\"group B\",\"some college\",\"free/reduced\",\"none\",\"40\",\"43\",\"39\"\n",
      "\n",
      "\"male\",\"group D\",\"high school\",\"free/reduced\",\"completed\",\"64\",\"64\",\"67\"\n",
      "\n",
      "\"female\",\"group B\",\"high school\",\"free/reduced\",\"none\",\"38\",\"60\",\"50\"\n",
      "\n",
      "\"male\",\"group C\",\"associate's degree\",\"standard\",\"none\",\"58\",\"54\",\"52\"\n",
      "\n",
      "\"male\",\"group D\",\"associate's degree\",\"standard\",\"none\",\"40\",\"52\",\"43\"\n",
      "\n",
      "\"female\",\"group B\",\"high school\",\"standard\",\"none\",\"65\",\"81\",\"73\"\n",
      "\n",
      "\"male\",\"group A\",\"some college\",\"standard\",\"completed\",\"78\",\"72\",\"70\"\n",
      "\n",
      "\"female\",\"group A\",\"master's degree\",\"standard\",\"none\",\"50\",\"53\",\"58\"\n",
      "\n",
      "\"female\",\"group C\",\"some high school\",\"standard\",\"none\",\"69\",\"75\",\"78\"\n",
      "\n",
      "\"male\",\"group C\",\"high school\",\"standard\",\"none\",\"88\",\"89\",\"86\"\n",
      "\n",
      "\"female\",\"group B\",\"some high school\",\"free/reduced\",\"none\",\"18\",\"32\",\"28\"\n",
      "\n",
      "\"male\",\"group C\",\"master's degree\",\"free/reduced\",\"completed\",\"46\",\"42\",\"46\"\n",
      "\n",
      "\"female\",\"group C\",\"associate's degree\",\"free/reduced\",\"none\",\"54\",\"58\",\"61\"\n",
      "\n",
      "\"male\",\"group D\",\"high school\",\"standard\",\"none\",\"66\",\"69\",\"63\"\n",
      "\n",
      "\"female\",\"group B\",\"some college\",\"free/reduced\",\"completed\",\"65\",\"75\",\"70\"\n",
      "\n",
      "\"male\",\"group D\",\"some college\",\"standard\",\"none\",\"44\",\"54\",\"53\"\n",
      "\n",
      "\"female\",\"group C\",\"some high school\",\"standard\",\"none\",\"69\",\"73\",\"73\"\n",
      "\n",
      "\"male\",\"group D\",\"bachelor's degree\",\"free/reduced\",\"completed\",\"74\",\"71\",\"80\"\n",
      "\n",
      "\"male\",\"group A\",\"master's degree\",\"free/reduced\",\"none\",\"73\",\"74\",\"72\"\n",
      "\n",
      "\"male\",\"group B\",\"some college\",\"standard\",\"none\",\"69\",\"54\",\"55\"\n",
      "\n",
      "\"female\",\"group C\",\"bachelor's degree\",\"standard\",\"none\",\"67\",\"69\",\"75\"\n",
      "\n",
      "\"male\",\"group C\",\"high school\",\"standard\",\"none\",\"70\",\"70\",\"65\"\n",
      "\n",
      "\"female\",\"group D\",\"master's degree\",\"standard\",\"none\",\"62\",\"70\",\"75\"\n",
      "\n",
      "\"female\",\"group D\",\"some college\",\"standard\",\"none\",\"69\",\"74\",\"74\"\n",
      "\n",
      "\"female\",\"group B\",\"some college\",\"standard\",\"none\",\"63\",\"65\",\"61\"\n",
      "\n",
      "\"female\",\"group E\",\"master's degree\",\"free/reduced\",\"none\",\"56\",\"72\",\"65\"\n",
      "\n",
      "\"male\",\"group D\",\"some college\",\"standard\",\"none\",\"40\",\"42\",\"38\"\n",
      "\n",
      "\"male\",\"group E\",\"some college\",\"standard\",\"none\",\"97\",\"87\",\"82\"\n",
      "\n",
      "\"male\",\"group E\",\"associate's degree\",\"standard\",\"completed\",\"81\",\"81\",\"79\"\n",
      "\n",
      "\"female\",\"group D\",\"associate's degree\",\"standard\",\"none\",\"74\",\"81\",\"83\"\n",
      "\n",
      "\"female\",\"group D\",\"some high school\",\"free/reduced\",\"none\",\"50\",\"64\",\"59\"\n",
      "\n",
      "\"female\",\"group D\",\"associate's degree\",\"free/reduced\",\"completed\",\"75\",\"90\",\"88\"\n",
      "\n",
      "\"male\",\"group B\",\"associate's degree\",\"free/reduced\",\"none\",\"57\",\"56\",\"57\"\n",
      "\n",
      "\"male\",\"group C\",\"associate's degree\",\"free/reduced\",\"none\",\"55\",\"61\",\"54\"\n",
      "\n",
      "\"female\",\"group C\",\"associate's degree\",\"standard\",\"none\",\"58\",\"73\",\"68\"\n",
      "\n",
      "\"female\",\"group B\",\"associate's degree\",\"standard\",\"none\",\"53\",\"58\",\"65\"\n",
      "\n",
      "\"male\",\"group B\",\"some college\",\"free/reduced\",\"completed\",\"59\",\"65\",\"66\"\n",
      "\n",
      "\"female\",\"group E\",\"associate's degree\",\"free/reduced\",\"none\",\"50\",\"56\",\"54\"\n",
      "\n",
      "\"male\",\"group B\",\"associate's degree\",\"standard\",\"none\",\"65\",\"54\",\"57\"\n",
      "\n",
      "\"female\",\"group A\",\"associate's degree\",\"standard\",\"completed\",\"55\",\"65\",\"62\"\n",
      "\n",
      "\"female\",\"group C\",\"high school\",\"standard\",\"none\",\"66\",\"71\",\"76\"\n",
      "\n",
      "\"female\",\"group D\",\"associate's degree\",\"free/reduced\",\"completed\",\"57\",\"74\",\"76\"\n",
      "\n",
      "\"male\",\"group C\",\"high school\",\"standard\",\"completed\",\"82\",\"84\",\"82\"\n",
      "\n",
      "\"male\",\"group E\",\"some college\",\"standard\",\"none\",\"53\",\"55\",\"48\"\n",
      "\n",
      "\"male\",\"group E\",\"associate's degree\",\"free/reduced\",\"completed\",\"77\",\"69\",\"68\"\n",
      "\n",
      "\"male\",\"group C\",\"some college\",\"standard\",\"none\",\"53\",\"44\",\"42\"\n",
      "\n",
      "\"male\",\"group D\",\"high school\",\"standard\",\"none\",\"88\",\"78\",\"75\"\n",
      "\n",
      "\"female\",\"group C\",\"some high school\",\"free/reduced\",\"completed\",\"71\",\"84\",\"87\"\n",
      "\n",
      "\"female\",\"group C\",\"high school\",\"free/reduced\",\"none\",\"33\",\"41\",\"43\"\n",
      "\n",
      "\"female\",\"group E\",\"associate's degree\",\"standard\",\"completed\",\"82\",\"85\",\"86\"\n",
      "\n",
      "\"male\",\"group D\",\"associate's degree\",\"standard\",\"none\",\"52\",\"55\",\"49\"\n",
      "\n",
      "\"male\",\"group D\",\"some college\",\"standard\",\"completed\",\"58\",\"59\",\"58\"\n",
      "\n",
      "\"female\",\"group C\",\"some high school\",\"free/reduced\",\"none\",\"0\",\"17\",\"10\"\n",
      "\n",
      "\"male\",\"group E\",\"bachelor's degree\",\"free/reduced\",\"completed\",\"79\",\"74\",\"72\"\n",
      "\n",
      "\"male\",\"group A\",\"some high school\",\"free/reduced\",\"none\",\"39\",\"39\",\"34\"\n",
      "\n",
      "\"male\",\"group A\",\"associate's degree\",\"free/reduced\",\"none\",\"62\",\"61\",\"55\"\n",
      "\n",
      "\"female\",\"group C\",\"associate's degree\",\"standard\",\"none\",\"69\",\"80\",\"71\"\n",
      "\n",
      "\"female\",\"group D\",\"some high school\",\"standard\",\"none\",\"59\",\"58\",\"59\"\n",
      "\n",
      "\"male\",\"group B\",\"some high school\",\"standard\",\"none\",\"67\",\"64\",\"61\"\n",
      "\n",
      "\"male\",\"group D\",\"some high school\",\"free/reduced\",\"none\",\"45\",\"37\",\"37\"\n",
      "\n",
      "\"female\",\"group C\",\"some college\",\"standard\",\"none\",\"60\",\"72\",\"74\"\n",
      "\n",
      "\"male\",\"group B\",\"associate's degree\",\"free/reduced\",\"none\",\"61\",\"58\",\"56\"\n",
      "\n",
      "\"female\",\"group C\",\"associate's degree\",\"standard\",\"none\",\"39\",\"64\",\"57\"\n",
      "\n",
      "\"female\",\"group D\",\"some college\",\"free/reduced\",\"completed\",\"58\",\"63\",\"73\"\n",
      "\n",
      "\"male\",\"group D\",\"some college\",\"standard\",\"completed\",\"63\",\"55\",\"63\"\n",
      "\n",
      "\"female\",\"group A\",\"associate's degree\",\"free/reduced\",\"none\",\"41\",\"51\",\"48\"\n",
      "\n",
      "\"male\",\"group C\",\"some high school\",\"free/reduced\",\"none\",\"61\",\"57\",\"56\"\n",
      "\n",
      "\"male\",\"group C\",\"some high school\",\"standard\",\"none\",\"49\",\"49\",\"41\"\n",
      "\n",
      "\"male\",\"group B\",\"associate's degree\",\"free/reduced\",\"none\",\"44\",\"41\",\"38\"\n",
      "\n",
      "\"male\",\"group E\",\"some high school\",\"standard\",\"none\",\"30\",\"26\",\"22\"\n",
      "\n",
      "\"male\",\"group A\",\"bachelor's degree\",\"standard\",\"completed\",\"80\",\"78\",\"81\"\n",
      "\n",
      "\"female\",\"group D\",\"some high school\",\"standard\",\"completed\",\"61\",\"74\",\"72\"\n",
      "\n",
      "\"female\",\"group E\",\"master's degree\",\"standard\",\"none\",\"62\",\"68\",\"68\"\n",
      "\n",
      "\"female\",\"group B\",\"associate's degree\",\"standard\",\"none\",\"47\",\"49\",\"50\"\n",
      "\n",
      "\"male\",\"group B\",\"high school\",\"free/reduced\",\"none\",\"49\",\"45\",\"45\"\n",
      "\n",
      "\"male\",\"group A\",\"some college\",\"free/reduced\",\"completed\",\"50\",\"47\",\"54\"\n",
      "\n",
      "\"male\",\"group E\",\"associate's degree\",\"standard\",\"none\",\"72\",\"64\",\"63\"\n",
      "\n",
      "\"male\",\"group D\",\"high school\",\"free/reduced\",\"none\",\"42\",\"39\",\"34\"\n",
      "\n",
      "\"female\",\"group C\",\"some college\",\"standard\",\"none\",\"73\",\"80\",\"82\"\n",
      "\n",
      "\"female\",\"group C\",\"some college\",\"free/reduced\",\"none\",\"76\",\"83\",\"88\"\n",
      "\n",
      "\"female\",\"group D\",\"associate's degree\",\"standard\",\"none\",\"71\",\"71\",\"74\"\n",
      "\n",
      "\"female\",\"group A\",\"some college\",\"standard\",\"none\",\"58\",\"70\",\"67\"\n",
      "\n",
      "\"female\",\"group D\",\"some high school\",\"standard\",\"none\",\"73\",\"86\",\"82\"\n",
      "\n",
      "\"female\",\"group C\",\"bachelor's degree\",\"standard\",\"none\",\"65\",\"72\",\"74\"\n",
      "\n",
      "\"male\",\"group C\",\"high school\",\"free/reduced\",\"none\",\"27\",\"34\",\"36\"\n",
      "\n",
      "\"male\",\"group C\",\"high school\",\"standard\",\"none\",\"71\",\"79\",\"71\"\n",
      "\n",
      "\"male\",\"group C\",\"associate's degree\",\"free/reduced\",\"completed\",\"43\",\"45\",\"50\"\n",
      "\n",
      "\"female\",\"group B\",\"some college\",\"standard\",\"none\",\"79\",\"86\",\"92\"\n",
      "\n",
      "\"male\",\"group C\",\"associate's degree\",\"free/reduced\",\"completed\",\"78\",\"81\",\"82\"\n",
      "\n",
      "\"male\",\"group B\",\"some high school\",\"standard\",\"completed\",\"65\",\"66\",\"62\"\n",
      "\n",
      "\"female\",\"group E\",\"some college\",\"standard\",\"completed\",\"63\",\"72\",\"70\"\n",
      "\n",
      "\"female\",\"group D\",\"some college\",\"free/reduced\",\"none\",\"58\",\"67\",\"62\"\n",
      "\n",
      "\"female\",\"group D\",\"bachelor's degree\",\"standard\",\"none\",\"65\",\"67\",\"62\"\n",
      "\n",
      "\"male\",\"group B\",\"some college\",\"standard\",\"none\",\"79\",\"67\",\"67\"\n",
      "\n",
      "\"male\",\"group D\",\"bachelor's degree\",\"standard\",\"completed\",\"68\",\"74\",\"74\"\n",
      "\n",
      "\"female\",\"group D\",\"associate's degree\",\"standard\",\"none\",\"85\",\"91\",\"89\"\n",
      "\n",
      "\"male\",\"group B\",\"high school\",\"standard\",\"completed\",\"60\",\"44\",\"47\"\n",
      "\n",
      "\"male\",\"group C\",\"some college\",\"standard\",\"completed\",\"98\",\"86\",\"90\"\n",
      "\n",
      "\"female\",\"group C\",\"some college\",\"standard\",\"none\",\"58\",\"67\",\"72\"\n",
      "\n",
      "\"female\",\"group D\",\"master's degree\",\"standard\",\"none\",\"87\",\"100\",\"100\"\n",
      "\n",
      "\"male\",\"group E\",\"associate's degree\",\"standard\",\"completed\",\"66\",\"63\",\"64\"\n",
      "\n",
      "\"female\",\"group B\",\"associate's degree\",\"free/reduced\",\"none\",\"52\",\"76\",\"70\"\n",
      "\n",
      "\"female\",\"group B\",\"some high school\",\"standard\",\"none\",\"70\",\"64\",\"72\"\n",
      "\n",
      "\"female\",\"group D\",\"associate's degree\",\"free/reduced\",\"completed\",\"77\",\"89\",\"98\"\n",
      "\n",
      "\"male\",\"group C\",\"high school\",\"standard\",\"none\",\"62\",\"55\",\"49\"\n",
      "\n",
      "\"male\",\"group A\",\"associate's degree\",\"standard\",\"none\",\"54\",\"53\",\"47\"\n",
      "\n",
      "\"female\",\"group D\",\"some college\",\"standard\",\"none\",\"51\",\"58\",\"54\"\n",
      "\n",
      "\"female\",\"group E\",\"bachelor's degree\",\"standard\",\"completed\",\"99\",\"100\",\"100\"\n",
      "\n",
      "\"male\",\"group C\",\"high school\",\"standard\",\"none\",\"84\",\"77\",\"74\"\n",
      "\n",
      "\"female\",\"group B\",\"bachelor's degree\",\"free/reduced\",\"none\",\"75\",\"85\",\"82\"\n",
      "\n",
      "\"female\",\"group D\",\"bachelor's degree\",\"standard\",\"none\",\"78\",\"82\",\"79\"\n",
      "\n",
      "\"female\",\"group D\",\"some high school\",\"standard\",\"none\",\"51\",\"63\",\"61\"\n",
      "\n",
      "\"female\",\"group C\",\"some college\",\"standard\",\"none\",\"55\",\"69\",\"65\"\n",
      "\n",
      "\"female\",\"group C\",\"bachelor's degree\",\"standard\",\"completed\",\"79\",\"92\",\"89\"\n",
      "\n",
      "\"male\",\"group B\",\"associate's degree\",\"standard\",\"completed\",\"91\",\"89\",\"92\"\n",
      "\n",
      "\"female\",\"group C\",\"some college\",\"standard\",\"completed\",\"88\",\"93\",\"93\"\n",
      "\n",
      "\"male\",\"group D\",\"high school\",\"free/reduced\",\"none\",\"63\",\"57\",\"56\"\n",
      "\n",
      "\"male\",\"group E\",\"some college\",\"standard\",\"none\",\"83\",\"80\",\"73\"\n",
      "\n",
      "\"female\",\"group B\",\"high school\",\"standard\",\"none\",\"87\",\"95\",\"86\"\n",
      "\n",
      "\"male\",\"group B\",\"some high school\",\"standard\",\"none\",\"72\",\"68\",\"67\"\n",
      "\n",
      "\"male\",\"group D\",\"some college\",\"standard\",\"completed\",\"65\",\"77\",\"74\"\n",
      "\n",
      "\"male\",\"group D\",\"master's degree\",\"standard\",\"none\",\"82\",\"82\",\"74\"\n",
      "\n",
      "\"female\",\"group A\",\"bachelor's degree\",\"standard\",\"none\",\"51\",\"49\",\"51\"\n",
      "\n",
      "\"male\",\"group D\",\"master's degree\",\"standard\",\"none\",\"89\",\"84\",\"82\"\n",
      "\n",
      "\"male\",\"group C\",\"some high school\",\"free/reduced\",\"completed\",\"53\",\"37\",\"40\"\n",
      "\n",
      "\"male\",\"group E\",\"some college\",\"free/reduced\",\"completed\",\"87\",\"74\",\"70\"\n",
      "\n",
      "\"female\",\"group C\",\"some college\",\"standard\",\"completed\",\"75\",\"81\",\"84\"\n",
      "\n",
      "\"male\",\"group D\",\"bachelor's degree\",\"free/reduced\",\"completed\",\"74\",\"79\",\"75\"\n",
      "\n",
      "\"male\",\"group C\",\"bachelor's degree\",\"standard\",\"none\",\"58\",\"55\",\"48\"\n",
      "\n",
      "\"male\",\"group B\",\"some high school\",\"standard\",\"completed\",\"51\",\"54\",\"41\"\n",
      "\n",
      "\"male\",\"group E\",\"high school\",\"standard\",\"none\",\"70\",\"55\",\"56\"\n",
      "\n",
      "\"female\",\"group C\",\"associate's degree\",\"standard\",\"none\",\"59\",\"66\",\"67\"\n",
      "\n",
      "\"male\",\"group D\",\"some college\",\"standard\",\"completed\",\"71\",\"61\",\"69\"\n",
      "\n",
      "\"female\",\"group D\",\"some high school\",\"standard\",\"none\",\"76\",\"72\",\"71\"\n",
      "\n",
      "\"female\",\"group C\",\"some college\",\"free/reduced\",\"none\",\"59\",\"62\",\"64\"\n",
      "\n",
      "\"female\",\"group E\",\"some college\",\"free/reduced\",\"completed\",\"42\",\"55\",\"54\"\n",
      "\n",
      "\"male\",\"group A\",\"high school\",\"standard\",\"none\",\"57\",\"43\",\"47\"\n",
      "\n",
      "\"male\",\"group D\",\"some college\",\"standard\",\"none\",\"88\",\"73\",\"78\"\n",
      "\n",
      "\"female\",\"group C\",\"some college\",\"free/reduced\",\"none\",\"22\",\"39\",\"33\"\n",
      "\n",
      "\"male\",\"group B\",\"some high school\",\"standard\",\"none\",\"88\",\"84\",\"75\"\n",
      "\n",
      "\"male\",\"group C\",\"associate's degree\",\"free/reduced\",\"none\",\"73\",\"68\",\"66\"\n",
      "\n",
      "\"female\",\"group D\",\"bachelor's degree\",\"standard\",\"completed\",\"68\",\"75\",\"81\"\n",
      "\n",
      "\"male\",\"group E\",\"associate's degree\",\"free/reduced\",\"completed\",\"100\",\"100\",\"93\"\n",
      "\n",
      "\"male\",\"group A\",\"some high school\",\"standard\",\"completed\",\"62\",\"67\",\"69\"\n",
      "\n",
      "\"male\",\"group A\",\"bachelor's degree\",\"standard\",\"none\",\"77\",\"67\",\"68\"\n",
      "\n",
      "\"female\",\"group B\",\"associate's degree\",\"standard\",\"completed\",\"59\",\"70\",\"66\"\n",
      "\n",
      "\"male\",\"group D\",\"bachelor's degree\",\"standard\",\"none\",\"54\",\"49\",\"47\"\n",
      "\n",
      "\"male\",\"group D\",\"some high school\",\"standard\",\"none\",\"62\",\"67\",\"61\"\n",
      "\n",
      "\"female\",\"group C\",\"some college\",\"standard\",\"completed\",\"70\",\"89\",\"88\"\n",
      "\n",
      "\"female\",\"group E\",\"high school\",\"free/reduced\",\"completed\",\"66\",\"74\",\"78\"\n",
      "\n",
      "\"male\",\"group B\",\"some college\",\"free/reduced\",\"none\",\"60\",\"60\",\"60\"\n",
      "\n",
      "\"female\",\"group B\",\"associate's degree\",\"standard\",\"completed\",\"61\",\"86\",\"87\"\n",
      "\n",
      "\"male\",\"group D\",\"associate's degree\",\"free/reduced\",\"none\",\"66\",\"62\",\"64\"\n",
      "\n",
      "\"male\",\"group B\",\"associate's degree\",\"free/reduced\",\"completed\",\"82\",\"78\",\"74\"\n",
      "\n",
      "\"female\",\"group E\",\"some college\",\"free/reduced\",\"completed\",\"75\",\"88\",\"85\"\n",
      "\n",
      "\"male\",\"group B\",\"master's degree\",\"free/reduced\",\"none\",\"49\",\"53\",\"52\"\n",
      "\n",
      "\"male\",\"group C\",\"high school\",\"standard\",\"none\",\"52\",\"53\",\"49\"\n",
      "\n",
      "\"female\",\"group E\",\"master's degree\",\"standard\",\"none\",\"81\",\"92\",\"91\"\n",
      "\n",
      "\"female\",\"group C\",\"bachelor's degree\",\"standard\",\"completed\",\"96\",\"100\",\"100\"\n",
      "\n",
      "\"male\",\"group C\",\"high school\",\"free/reduced\",\"completed\",\"53\",\"51\",\"51\"\n",
      "\n",
      "\"female\",\"group B\",\"master's degree\",\"free/reduced\",\"completed\",\"58\",\"76\",\"78\"\n",
      "\n",
      "\"female\",\"group B\",\"high school\",\"standard\",\"completed\",\"68\",\"83\",\"78\"\n",
      "\n",
      "\"female\",\"group C\",\"some college\",\"free/reduced\",\"completed\",\"67\",\"75\",\"70\"\n",
      "\n",
      "\"male\",\"group A\",\"high school\",\"standard\",\"completed\",\"72\",\"73\",\"74\"\n",
      "\n",
      "\"male\",\"group E\",\"some high school\",\"standard\",\"none\",\"94\",\"88\",\"78\"\n",
      "\n",
      "\"female\",\"group D\",\"some college\",\"standard\",\"none\",\"79\",\"86\",\"81\"\n",
      "\n",
      "\"female\",\"group C\",\"associate's degree\",\"standard\",\"none\",\"63\",\"67\",\"70\"\n",
      "\n",
      "\"female\",\"group C\",\"bachelor's degree\",\"free/reduced\",\"completed\",\"43\",\"51\",\"54\"\n",
      "\n",
      "\"female\",\"group C\",\"master's degree\",\"standard\",\"completed\",\"81\",\"91\",\"87\"\n",
      "\n",
      "\"female\",\"group B\",\"high school\",\"free/reduced\",\"completed\",\"46\",\"54\",\"58\"\n",
      "\n",
      "\"female\",\"group C\",\"associate's degree\",\"standard\",\"completed\",\"71\",\"77\",\"77\"\n",
      "\n",
      "\"female\",\"group B\",\"master's degree\",\"free/reduced\",\"completed\",\"52\",\"70\",\"62\"\n",
      "\n",
      "\"female\",\"group D\",\"some high school\",\"standard\",\"completed\",\"97\",\"100\",\"100\"\n",
      "\n",
      "\"male\",\"group C\",\"master's degree\",\"free/reduced\",\"completed\",\"62\",\"68\",\"75\"\n",
      "\n",
      "\"female\",\"group C\",\"some college\",\"free/reduced\",\"none\",\"46\",\"64\",\"66\"\n",
      "\n",
      "\"female\",\"group E\",\"high school\",\"standard\",\"none\",\"50\",\"50\",\"47\"\n",
      "\n",
      "\"female\",\"group D\",\"associate's degree\",\"standard\",\"none\",\"65\",\"69\",\"70\"\n",
      "\n",
      "\"male\",\"group C\",\"some high school\",\"free/reduced\",\"completed\",\"45\",\"52\",\"49\"\n",
      "\n",
      "\"male\",\"group C\",\"associate's degree\",\"free/reduced\",\"completed\",\"65\",\"67\",\"65\"\n",
      "\n",
      "\"male\",\"group E\",\"high school\",\"standard\",\"none\",\"80\",\"76\",\"65\"\n",
      "\n",
      "\"male\",\"group D\",\"some high school\",\"standard\",\"completed\",\"62\",\"66\",\"68\"\n",
      "\n",
      "\"male\",\"group B\",\"some high school\",\"free/reduced\",\"none\",\"48\",\"52\",\"45\"\n",
      "\n",
      "\"female\",\"group C\",\"bachelor's degree\",\"standard\",\"none\",\"77\",\"88\",\"87\"\n",
      "\n",
      "\"female\",\"group E\",\"associate's degree\",\"standard\",\"none\",\"66\",\"65\",\"69\"\n",
      "\n",
      "\"male\",\"group D\",\"some college\",\"standard\",\"completed\",\"76\",\"83\",\"79\"\n",
      "\n",
      "\"female\",\"group B\",\"some high school\",\"standard\",\"none\",\"62\",\"64\",\"66\"\n",
      "\n",
      "\"male\",\"group D\",\"some college\",\"standard\",\"completed\",\"77\",\"62\",\"62\"\n",
      "\n",
      "\"female\",\"group C\",\"master's degree\",\"standard\",\"completed\",\"69\",\"84\",\"85\"\n",
      "\n",
      "\"male\",\"group D\",\"associate's degree\",\"standard\",\"none\",\"61\",\"55\",\"52\"\n",
      "\n",
      "\"male\",\"group C\",\"some high school\",\"free/reduced\",\"completed\",\"59\",\"69\",\"65\"\n",
      "\n",
      "\"male\",\"group E\",\"high school\",\"free/reduced\",\"none\",\"55\",\"56\",\"51\"\n",
      "\n",
      "\"female\",\"group B\",\"some college\",\"free/reduced\",\"none\",\"45\",\"53\",\"55\"\n",
      "\n",
      "\"female\",\"group B\",\"bachelor's degree\",\"free/reduced\",\"none\",\"78\",\"79\",\"76\"\n",
      "\n",
      "\"female\",\"group C\",\"associate's degree\",\"standard\",\"completed\",\"67\",\"84\",\"86\"\n",
      "\n",
      "\"female\",\"group D\",\"some college\",\"free/reduced\",\"none\",\"65\",\"81\",\"77\"\n",
      "\n",
      "\"male\",\"group C\",\"associate's degree\",\"standard\",\"none\",\"69\",\"77\",\"69\"\n",
      "\n",
      "\"female\",\"group B\",\"associate's degree\",\"standard\",\"none\",\"57\",\"69\",\"68\"\n",
      "\n",
      "\"male\",\"group C\",\"some college\",\"standard\",\"none\",\"59\",\"41\",\"42\"\n",
      "\n",
      "\"male\",\"group D\",\"some high school\",\"standard\",\"completed\",\"74\",\"71\",\"78\"\n",
      "\n",
      "\"male\",\"group E\",\"bachelor's degree\",\"standard\",\"none\",\"82\",\"62\",\"62\"\n",
      "\n",
      "\"male\",\"group E\",\"high school\",\"standard\",\"completed\",\"81\",\"80\",\"76\"\n",
      "\n",
      "\"female\",\"group B\",\"some college\",\"free/reduced\",\"none\",\"74\",\"81\",\"76\"\n",
      "\n",
      "\"female\",\"group B\",\"some college\",\"free/reduced\",\"none\",\"58\",\"61\",\"66\"\n",
      "\n",
      "\"male\",\"group D\",\"some high school\",\"free/reduced\",\"completed\",\"80\",\"79\",\"79\"\n",
      "\n",
      "\"male\",\"group C\",\"some college\",\"free/reduced\",\"none\",\"35\",\"28\",\"27\"\n",
      "\n",
      "\"female\",\"group C\",\"high school\",\"free/reduced\",\"none\",\"42\",\"62\",\"60\"\n",
      "\n",
      "\"male\",\"group C\",\"associate's degree\",\"free/reduced\",\"completed\",\"60\",\"51\",\"56\"\n",
      "\n",
      "\"male\",\"group E\",\"high school\",\"standard\",\"completed\",\"87\",\"91\",\"81\"\n",
      "\n",
      "\"male\",\"group B\",\"some high school\",\"standard\",\"completed\",\"84\",\"83\",\"75\"\n",
      "\n",
      "\"female\",\"group E\",\"associate's degree\",\"free/reduced\",\"completed\",\"83\",\"86\",\"88\"\n",
      "\n",
      "\"female\",\"group C\",\"high school\",\"free/reduced\",\"none\",\"34\",\"42\",\"39\"\n",
      "\n",
      "\"male\",\"group B\",\"high school\",\"free/reduced\",\"none\",\"66\",\"77\",\"70\"\n",
      "\n",
      "\"male\",\"group B\",\"some high school\",\"standard\",\"completed\",\"61\",\"56\",\"56\"\n",
      "\n",
      "\"female\",\"group D\",\"high school\",\"standard\",\"completed\",\"56\",\"68\",\"74\"\n",
      "\n",
      "\"male\",\"group B\",\"associate's degree\",\"standard\",\"none\",\"87\",\"85\",\"73\"\n",
      "\n",
      "\"female\",\"group C\",\"some high school\",\"free/reduced\",\"none\",\"55\",\"65\",\"62\"\n",
      "\n",
      "\"male\",\"group D\",\"some high school\",\"standard\",\"none\",\"86\",\"80\",\"75\"\n",
      "\n",
      "\"female\",\"group B\",\"associate's degree\",\"standard\",\"completed\",\"52\",\"66\",\"73\"\n",
      "\n",
      "\"female\",\"group E\",\"master's degree\",\"free/reduced\",\"none\",\"45\",\"56\",\"54\"\n",
      "\n",
      "\"female\",\"group C\",\"some college\",\"standard\",\"none\",\"72\",\"72\",\"71\"\n",
      "\n",
      "\"male\",\"group D\",\"high school\",\"standard\",\"none\",\"57\",\"50\",\"54\"\n",
      "\n",
      "\"male\",\"group A\",\"some high school\",\"free/reduced\",\"none\",\"68\",\"72\",\"64\"\n",
      "\n",
      "\"female\",\"group C\",\"some college\",\"standard\",\"completed\",\"88\",\"95\",\"94\"\n",
      "\n",
      "\"male\",\"group D\",\"some college\",\"standard\",\"none\",\"76\",\"64\",\"66\"\n",
      "\n",
      "\"male\",\"group C\",\"associate's degree\",\"standard\",\"none\",\"46\",\"43\",\"42\"\n",
      "\n",
      "\"female\",\"group B\",\"bachelor's degree\",\"standard\",\"none\",\"67\",\"86\",\"83\"\n",
      "\n",
      "\"male\",\"group E\",\"some high school\",\"standard\",\"none\",\"92\",\"87\",\"78\"\n",
      "\n",
      "\"male\",\"group C\",\"bachelor's degree\",\"standard\",\"completed\",\"83\",\"82\",\"84\"\n",
      "\n",
      "\"male\",\"group D\",\"associate's degree\",\"standard\",\"none\",\"80\",\"75\",\"77\"\n",
      "\n",
      "\"male\",\"group D\",\"bachelor's degree\",\"free/reduced\",\"none\",\"63\",\"66\",\"67\"\n",
      "\n",
      "\"female\",\"group D\",\"some high school\",\"standard\",\"completed\",\"64\",\"60\",\"74\"\n",
      "\n",
      "\"male\",\"group B\",\"some college\",\"standard\",\"none\",\"54\",\"52\",\"51\"\n",
      "\n",
      "\"male\",\"group C\",\"associate's degree\",\"standard\",\"none\",\"84\",\"80\",\"80\"\n",
      "\n",
      "\"male\",\"group D\",\"high school\",\"free/reduced\",\"completed\",\"73\",\"68\",\"66\"\n",
      "\n",
      "\"female\",\"group E\",\"bachelor's degree\",\"standard\",\"none\",\"80\",\"83\",\"83\"\n",
      "\n",
      "\"female\",\"group D\",\"high school\",\"standard\",\"none\",\"56\",\"52\",\"55\"\n",
      "\n",
      "\"male\",\"group E\",\"some college\",\"standard\",\"none\",\"59\",\"51\",\"43\"\n",
      "\n",
      "\"male\",\"group D\",\"some high school\",\"standard\",\"none\",\"75\",\"74\",\"69\"\n",
      "\n",
      "\"male\",\"group C\",\"associate's degree\",\"standard\",\"none\",\"85\",\"76\",\"71\"\n",
      "\n",
      "\"male\",\"group E\",\"associate's degree\",\"standard\",\"none\",\"89\",\"76\",\"74\"\n",
      "\n",
      "\"female\",\"group B\",\"high school\",\"standard\",\"completed\",\"58\",\"70\",\"68\"\n",
      "\n",
      "\"female\",\"group B\",\"high school\",\"standard\",\"none\",\"65\",\"64\",\"62\"\n",
      "\n",
      "\"male\",\"group C\",\"high school\",\"standard\",\"none\",\"68\",\"60\",\"53\"\n",
      "\n",
      "\"male\",\"group A\",\"some high school\",\"standard\",\"completed\",\"47\",\"49\",\"49\"\n",
      "\n",
      "\"female\",\"group D\",\"some college\",\"free/reduced\",\"none\",\"71\",\"83\",\"83\"\n",
      "\n",
      "\"female\",\"group B\",\"some high school\",\"standard\",\"completed\",\"60\",\"70\",\"70\"\n",
      "\n",
      "\"male\",\"group D\",\"master's degree\",\"standard\",\"none\",\"80\",\"80\",\"72\"\n",
      "\n",
      "\"male\",\"group D\",\"high school\",\"standard\",\"none\",\"54\",\"52\",\"52\"\n",
      "\n",
      "\"female\",\"group E\",\"some college\",\"standard\",\"none\",\"62\",\"73\",\"70\"\n",
      "\n",
      "\"female\",\"group C\",\"associate's degree\",\"free/reduced\",\"none\",\"64\",\"73\",\"68\"\n",
      "\n",
      "\"male\",\"group C\",\"associate's degree\",\"standard\",\"completed\",\"78\",\"77\",\"77\"\n",
      "\n",
      "\"female\",\"group B\",\"some college\",\"standard\",\"none\",\"70\",\"75\",\"78\"\n",
      "\n",
      "\"female\",\"group C\",\"master's degree\",\"free/reduced\",\"completed\",\"65\",\"81\",\"81\"\n",
      "\n",
      "\"female\",\"group C\",\"some high school\",\"free/reduced\",\"completed\",\"64\",\"79\",\"77\"\n",
      "\n",
      "\"male\",\"group C\",\"some college\",\"standard\",\"completed\",\"79\",\"79\",\"78\"\n",
      "\n",
      "\"female\",\"group C\",\"some high school\",\"free/reduced\",\"none\",\"44\",\"50\",\"51\"\n",
      "\n",
      "\"female\",\"group E\",\"high school\",\"standard\",\"none\",\"99\",\"93\",\"90\"\n",
      "\n",
      "\"male\",\"group D\",\"high school\",\"standard\",\"none\",\"76\",\"73\",\"68\"\n",
      "\n",
      "\"male\",\"group D\",\"some high school\",\"free/reduced\",\"none\",\"59\",\"42\",\"41\"\n",
      "\n",
      "\"female\",\"group C\",\"bachelor's degree\",\"standard\",\"none\",\"63\",\"75\",\"81\"\n",
      "\n",
      "\"female\",\"group D\",\"high school\",\"standard\",\"none\",\"69\",\"72\",\"77\"\n",
      "\n",
      "\"female\",\"group D\",\"associate's degree\",\"standard\",\"completed\",\"88\",\"92\",\"95\"\n",
      "\n",
      "\"female\",\"group E\",\"some college\",\"free/reduced\",\"none\",\"71\",\"76\",\"70\"\n",
      "\n",
      "\"male\",\"group C\",\"bachelor's degree\",\"standard\",\"none\",\"69\",\"63\",\"61\"\n",
      "\n",
      "\"male\",\"group C\",\"some college\",\"standard\",\"none\",\"58\",\"49\",\"42\"\n",
      "\n",
      "\"female\",\"group D\",\"associate's degree\",\"free/reduced\",\"none\",\"47\",\"53\",\"58\"\n",
      "\n",
      "\"female\",\"group D\",\"some college\",\"standard\",\"none\",\"65\",\"70\",\"71\"\n",
      "\n",
      "\"male\",\"group B\",\"some college\",\"standard\",\"completed\",\"88\",\"85\",\"76\"\n",
      "\n",
      "\"male\",\"group C\",\"bachelor's degree\",\"standard\",\"none\",\"83\",\"78\",\"73\"\n",
      "\n",
      "\"female\",\"group C\",\"some high school\",\"standard\",\"completed\",\"85\",\"92\",\"93\"\n",
      "\n",
      "\"female\",\"group E\",\"high school\",\"standard\",\"completed\",\"59\",\"63\",\"75\"\n",
      "\n",
      "\"female\",\"group C\",\"some high school\",\"free/reduced\",\"none\",\"65\",\"86\",\"80\"\n",
      "\n",
      "\"male\",\"group B\",\"bachelor's degree\",\"free/reduced\",\"none\",\"73\",\"56\",\"57\"\n",
      "\n",
      "\"male\",\"group D\",\"high school\",\"standard\",\"none\",\"53\",\"52\",\"42\"\n",
      "\n",
      "\"male\",\"group D\",\"high school\",\"standard\",\"none\",\"45\",\"48\",\"46\"\n",
      "\n",
      "\"female\",\"group D\",\"bachelor's degree\",\"free/reduced\",\"none\",\"73\",\"79\",\"84\"\n",
      "\n",
      "\"female\",\"group D\",\"some college\",\"free/reduced\",\"completed\",\"70\",\"78\",\"78\"\n",
      "\n",
      "\"female\",\"group B\",\"some high school\",\"standard\",\"none\",\"37\",\"46\",\"46\"\n",
      "\n",
      "\"male\",\"group B\",\"associate's degree\",\"standard\",\"completed\",\"81\",\"82\",\"82\"\n",
      "\n",
      "\"male\",\"group E\",\"associate's degree\",\"standard\",\"completed\",\"97\",\"82\",\"88\"\n",
      "\n",
      "\"female\",\"group B\",\"some high school\",\"standard\",\"none\",\"67\",\"89\",\"82\"\n",
      "\n",
      "\"male\",\"group B\",\"bachelor's degree\",\"free/reduced\",\"none\",\"88\",\"75\",\"76\"\n",
      "\n",
      "\"male\",\"group E\",\"some high school\",\"standard\",\"completed\",\"77\",\"76\",\"77\"\n",
      "\n",
      "\"male\",\"group C\",\"associate's degree\",\"standard\",\"none\",\"76\",\"70\",\"68\"\n",
      "\n",
      "\"male\",\"group D\",\"some high school\",\"standard\",\"none\",\"86\",\"73\",\"70\"\n",
      "\n",
      "\"male\",\"group C\",\"some high school\",\"standard\",\"completed\",\"63\",\"60\",\"57\"\n",
      "\n",
      "\"female\",\"group E\",\"bachelor's degree\",\"standard\",\"none\",\"65\",\"73\",\"75\"\n",
      "\n",
      "\"male\",\"group D\",\"high school\",\"free/reduced\",\"completed\",\"78\",\"77\",\"80\"\n",
      "\n",
      "\"male\",\"group B\",\"associate's degree\",\"free/reduced\",\"none\",\"67\",\"62\",\"60\"\n",
      "\n",
      "\"male\",\"group A\",\"some high school\",\"standard\",\"completed\",\"46\",\"41\",\"43\"\n",
      "\n",
      "\"male\",\"group E\",\"associate's degree\",\"standard\",\"completed\",\"71\",\"74\",\"68\"\n",
      "\n",
      "\"male\",\"group C\",\"high school\",\"free/reduced\",\"completed\",\"40\",\"46\",\"50\"\n",
      "\n",
      "\"male\",\"group D\",\"associate's degree\",\"free/reduced\",\"none\",\"90\",\"87\",\"75\"\n",
      "\n",
      "\"male\",\"group A\",\"some college\",\"free/reduced\",\"completed\",\"81\",\"78\",\"81\"\n",
      "\n",
      "\"male\",\"group D\",\"some high school\",\"free/reduced\",\"none\",\"56\",\"54\",\"52\"\n",
      "\n",
      "\"female\",\"group C\",\"associate's degree\",\"standard\",\"completed\",\"67\",\"84\",\"81\"\n",
      "\n",
      "\"male\",\"group B\",\"associate's degree\",\"standard\",\"none\",\"80\",\"76\",\"64\"\n",
      "\n",
      "\"female\",\"group C\",\"associate's degree\",\"standard\",\"completed\",\"74\",\"75\",\"83\"\n",
      "\n",
      "\"male\",\"group A\",\"some college\",\"standard\",\"none\",\"69\",\"67\",\"69\"\n",
      "\n",
      "\"male\",\"group E\",\"some college\",\"standard\",\"completed\",\"99\",\"87\",\"81\"\n",
      "\n",
      "\"male\",\"group C\",\"some high school\",\"standard\",\"none\",\"51\",\"52\",\"44\"\n",
      "\n",
      "\"female\",\"group B\",\"associate's degree\",\"free/reduced\",\"none\",\"53\",\"71\",\"67\"\n",
      "\n",
      "\"female\",\"group D\",\"high school\",\"free/reduced\",\"none\",\"49\",\"57\",\"52\"\n",
      "\n",
      "\"female\",\"group B\",\"associate's degree\",\"standard\",\"none\",\"73\",\"76\",\"80\"\n",
      "\n",
      "\"male\",\"group B\",\"bachelor's degree\",\"standard\",\"none\",\"66\",\"60\",\"57\"\n",
      "\n",
      "\"male\",\"group D\",\"bachelor's degree\",\"standard\",\"completed\",\"67\",\"61\",\"68\"\n",
      "\n",
      "\"female\",\"group C\",\"associate's degree\",\"free/reduced\",\"completed\",\"68\",\"67\",\"69\"\n",
      "\n",
      "\"female\",\"group C\",\"bachelor's degree\",\"standard\",\"completed\",\"59\",\"64\",\"75\"\n",
      "\n",
      "\"male\",\"group C\",\"high school\",\"standard\",\"none\",\"71\",\"66\",\"65\"\n",
      "\n",
      "\"female\",\"group D\",\"master's degree\",\"standard\",\"completed\",\"77\",\"82\",\"91\"\n",
      "\n",
      "\"male\",\"group C\",\"associate's degree\",\"standard\",\"none\",\"83\",\"72\",\"78\"\n",
      "\n",
      "\"male\",\"group B\",\"bachelor's degree\",\"standard\",\"none\",\"63\",\"71\",\"69\"\n",
      "\n",
      "\"female\",\"group D\",\"associate's degree\",\"free/reduced\",\"none\",\"56\",\"65\",\"63\"\n",
      "\n",
      "\"female\",\"group C\",\"high school\",\"free/reduced\",\"completed\",\"67\",\"79\",\"84\"\n",
      "\n",
      "\"female\",\"group E\",\"high school\",\"standard\",\"none\",\"75\",\"86\",\"79\"\n",
      "\n",
      "\"female\",\"group C\",\"some college\",\"standard\",\"none\",\"71\",\"81\",\"80\"\n",
      "\n",
      "\"female\",\"group C\",\"some high school\",\"free/reduced\",\"none\",\"43\",\"53\",\"53\"\n",
      "\n",
      "\"female\",\"group C\",\"high school\",\"free/reduced\",\"none\",\"41\",\"46\",\"43\"\n",
      "\n",
      "\"female\",\"group C\",\"some college\",\"standard\",\"none\",\"82\",\"90\",\"94\"\n",
      "\n",
      "\"male\",\"group C\",\"some college\",\"standard\",\"none\",\"61\",\"61\",\"62\"\n",
      "\n",
      "\"male\",\"group A\",\"some college\",\"free/reduced\",\"none\",\"28\",\"23\",\"19\"\n",
      "\n",
      "\"male\",\"group C\",\"associate's degree\",\"standard\",\"completed\",\"82\",\"75\",\"77\"\n",
      "\n",
      "\"female\",\"group B\",\"some high school\",\"standard\",\"none\",\"41\",\"55\",\"51\"\n",
      "\n",
      "\"male\",\"group C\",\"high school\",\"standard\",\"none\",\"71\",\"60\",\"61\"\n",
      "\n",
      "\"male\",\"group C\",\"associate's degree\",\"standard\",\"none\",\"47\",\"37\",\"35\"\n",
      "\n",
      "\"male\",\"group E\",\"associate's degree\",\"standard\",\"completed\",\"62\",\"56\",\"53\"\n",
      "\n",
      "\"male\",\"group B\",\"associate's degree\",\"standard\",\"none\",\"90\",\"78\",\"81\"\n",
      "\n",
      "\"female\",\"group C\",\"bachelor's degree\",\"standard\",\"none\",\"83\",\"93\",\"95\"\n",
      "\n",
      "\"female\",\"group B\",\"some college\",\"free/reduced\",\"none\",\"61\",\"68\",\"66\"\n",
      "\n",
      "\"male\",\"group D\",\"some high school\",\"standard\",\"completed\",\"76\",\"70\",\"69\"\n",
      "\n",
      "\"male\",\"group C\",\"associate's degree\",\"standard\",\"none\",\"49\",\"51\",\"43\"\n",
      "\n",
      "\"female\",\"group B\",\"some high school\",\"free/reduced\",\"none\",\"24\",\"38\",\"27\"\n",
      "\n",
      "\"female\",\"group D\",\"some high school\",\"free/reduced\",\"completed\",\"35\",\"55\",\"60\"\n",
      "\n",
      "\"male\",\"group C\",\"high school\",\"free/reduced\",\"none\",\"58\",\"61\",\"52\"\n",
      "\n",
      "\"female\",\"group C\",\"high school\",\"standard\",\"none\",\"61\",\"73\",\"63\"\n",
      "\n",
      "\"female\",\"group B\",\"high school\",\"standard\",\"completed\",\"69\",\"76\",\"74\"\n",
      "\n",
      "\"male\",\"group D\",\"associate's degree\",\"standard\",\"completed\",\"67\",\"72\",\"67\"\n",
      "\n",
      "\"male\",\"group D\",\"some college\",\"standard\",\"none\",\"79\",\"73\",\"67\"\n",
      "\n",
      "\"female\",\"group C\",\"high school\",\"standard\",\"none\",\"72\",\"80\",\"75\"\n",
      "\n",
      "\"male\",\"group B\",\"some college\",\"standard\",\"none\",\"62\",\"61\",\"57\"\n",
      "\n",
      "\"female\",\"group C\",\"bachelor's degree\",\"standard\",\"completed\",\"77\",\"94\",\"95\"\n",
      "\n",
      "\"male\",\"group D\",\"high school\",\"free/reduced\",\"none\",\"75\",\"74\",\"66\"\n",
      "\n",
      "\"male\",\"group E\",\"associate's degree\",\"standard\",\"none\",\"87\",\"74\",\"76\"\n",
      "\n",
      "\"female\",\"group B\",\"bachelor's degree\",\"standard\",\"none\",\"52\",\"65\",\"69\"\n",
      "\n",
      "\"male\",\"group E\",\"some college\",\"standard\",\"none\",\"66\",\"57\",\"52\"\n",
      "\n",
      "\"female\",\"group C\",\"some college\",\"standard\",\"completed\",\"63\",\"78\",\"80\"\n",
      "\n",
      "\"female\",\"group C\",\"associate's degree\",\"standard\",\"none\",\"46\",\"58\",\"57\"\n",
      "\n",
      "\"female\",\"group C\",\"some college\",\"standard\",\"none\",\"59\",\"71\",\"70\"\n",
      "\n",
      "\"female\",\"group B\",\"bachelor's degree\",\"standard\",\"none\",\"61\",\"72\",\"70\"\n",
      "\n",
      "\"male\",\"group A\",\"associate's degree\",\"standard\",\"none\",\"63\",\"61\",\"61\"\n",
      "\n",
      "\"female\",\"group C\",\"some college\",\"free/reduced\",\"completed\",\"42\",\"66\",\"69\"\n",
      "\n",
      "\"male\",\"group D\",\"some college\",\"free/reduced\",\"none\",\"59\",\"62\",\"61\"\n",
      "\n",
      "\"female\",\"group D\",\"some college\",\"standard\",\"none\",\"80\",\"90\",\"89\"\n",
      "\n",
      "\"female\",\"group B\",\"high school\",\"standard\",\"none\",\"58\",\"62\",\"59\"\n",
      "\n",
      "\"male\",\"group B\",\"some high school\",\"standard\",\"completed\",\"85\",\"84\",\"78\"\n",
      "\n",
      "\"female\",\"group C\",\"some college\",\"standard\",\"none\",\"52\",\"58\",\"58\"\n",
      "\n",
      "\"female\",\"group D\",\"some high school\",\"free/reduced\",\"none\",\"27\",\"34\",\"32\"\n",
      "\n",
      "\"male\",\"group C\",\"some college\",\"standard\",\"none\",\"59\",\"60\",\"58\"\n",
      "\n",
      "\"male\",\"group A\",\"bachelor's degree\",\"free/reduced\",\"completed\",\"49\",\"58\",\"60\"\n",
      "\n",
      "\"male\",\"group C\",\"high school\",\"standard\",\"completed\",\"69\",\"58\",\"53\"\n",
      "\n",
      "\"male\",\"group C\",\"bachelor's degree\",\"free/reduced\",\"none\",\"61\",\"66\",\"61\"\n",
      "\n",
      "\"female\",\"group A\",\"some high school\",\"free/reduced\",\"none\",\"44\",\"64\",\"58\"\n",
      "\n",
      "\"female\",\"group D\",\"some high school\",\"standard\",\"none\",\"73\",\"84\",\"85\"\n",
      "\n",
      "\"male\",\"group E\",\"some college\",\"standard\",\"none\",\"84\",\"77\",\"71\"\n",
      "\n",
      "\"female\",\"group C\",\"some college\",\"free/reduced\",\"completed\",\"45\",\"73\",\"70\"\n",
      "\n",
      "\"male\",\"group D\",\"some high school\",\"standard\",\"none\",\"74\",\"74\",\"72\"\n",
      "\n",
      "\"female\",\"group D\",\"some college\",\"standard\",\"completed\",\"82\",\"97\",\"96\"\n",
      "\n",
      "\"female\",\"group D\",\"bachelor's degree\",\"standard\",\"none\",\"59\",\"70\",\"73\"\n",
      "\n",
      "\"male\",\"group E\",\"associate's degree\",\"free/reduced\",\"none\",\"46\",\"43\",\"41\"\n",
      "\n",
      "\"female\",\"group D\",\"some high school\",\"standard\",\"none\",\"80\",\"90\",\"82\"\n",
      "\n",
      "\"female\",\"group D\",\"master's degree\",\"free/reduced\",\"completed\",\"85\",\"95\",\"100\"\n",
      "\n",
      "\"female\",\"group A\",\"some high school\",\"standard\",\"none\",\"71\",\"83\",\"77\"\n",
      "\n",
      "\"male\",\"group A\",\"bachelor's degree\",\"standard\",\"none\",\"66\",\"64\",\"62\"\n",
      "\n",
      "\"female\",\"group B\",\"associate's degree\",\"standard\",\"none\",\"80\",\"86\",\"83\"\n",
      "\n",
      "\"male\",\"group C\",\"associate's degree\",\"standard\",\"completed\",\"87\",\"100\",\"95\"\n",
      "\n",
      "\"male\",\"group C\",\"master's degree\",\"free/reduced\",\"none\",\"79\",\"81\",\"71\"\n",
      "\n",
      "\"female\",\"group E\",\"some high school\",\"free/reduced\",\"none\",\"38\",\"49\",\"45\"\n",
      "\n",
      "\"female\",\"group A\",\"some high school\",\"free/reduced\",\"none\",\"38\",\"43\",\"43\"\n",
      "\n",
      "\"female\",\"group E\",\"some college\",\"standard\",\"none\",\"67\",\"76\",\"75\"\n",
      "\n",
      "\"female\",\"group E\",\"bachelor's degree\",\"standard\",\"none\",\"64\",\"73\",\"70\"\n",
      "\n",
      "\"female\",\"group C\",\"associate's degree\",\"free/reduced\",\"none\",\"57\",\"78\",\"67\"\n",
      "\n",
      "\"female\",\"group D\",\"high school\",\"standard\",\"none\",\"62\",\"64\",\"64\"\n",
      "\n",
      "\"male\",\"group D\",\"master's degree\",\"standard\",\"none\",\"73\",\"70\",\"75\"\n",
      "\n",
      "\"male\",\"group E\",\"some high school\",\"free/reduced\",\"completed\",\"73\",\"67\",\"59\"\n",
      "\n",
      "\"female\",\"group D\",\"some college\",\"standard\",\"none\",\"77\",\"68\",\"77\"\n",
      "\n",
      "\"male\",\"group E\",\"some college\",\"standard\",\"none\",\"76\",\"67\",\"67\"\n",
      "\n",
      "\"male\",\"group C\",\"associate's degree\",\"standard\",\"completed\",\"57\",\"54\",\"56\"\n",
      "\n",
      "\"female\",\"group C\",\"some high school\",\"standard\",\"completed\",\"65\",\"74\",\"77\"\n",
      "\n",
      "\"male\",\"group A\",\"high school\",\"free/reduced\",\"none\",\"48\",\"45\",\"41\"\n",
      "\n",
      "\"female\",\"group B\",\"high school\",\"free/reduced\",\"none\",\"50\",\"67\",\"63\"\n",
      "\n",
      "\"female\",\"group C\",\"associate's degree\",\"standard\",\"none\",\"85\",\"89\",\"95\"\n",
      "\n",
      "\"male\",\"group B\",\"some high school\",\"standard\",\"none\",\"74\",\"63\",\"57\"\n",
      "\n",
      "\"male\",\"group D\",\"some high school\",\"standard\",\"none\",\"60\",\"59\",\"54\"\n",
      "\n",
      "\"female\",\"group C\",\"some high school\",\"standard\",\"completed\",\"59\",\"54\",\"67\"\n",
      "\n",
      "\"male\",\"group A\",\"some college\",\"standard\",\"none\",\"53\",\"43\",\"43\"\n",
      "\n",
      "\"female\",\"group A\",\"some college\",\"free/reduced\",\"none\",\"49\",\"65\",\"55\"\n",
      "\n",
      "\"female\",\"group D\",\"high school\",\"standard\",\"completed\",\"88\",\"99\",\"100\"\n",
      "\n",
      "\"female\",\"group C\",\"high school\",\"standard\",\"none\",\"54\",\"59\",\"62\"\n",
      "\n",
      "\"female\",\"group C\",\"some high school\",\"standard\",\"none\",\"63\",\"73\",\"68\"\n",
      "\n",
      "\"male\",\"group B\",\"associate's degree\",\"standard\",\"completed\",\"65\",\"65\",\"63\"\n",
      "\n",
      "\"female\",\"group B\",\"associate's degree\",\"standard\",\"none\",\"82\",\"80\",\"77\"\n",
      "\n",
      "\"female\",\"group D\",\"high school\",\"free/reduced\",\"completed\",\"52\",\"57\",\"56\"\n",
      "\n",
      "\"male\",\"group D\",\"associate's degree\",\"standard\",\"completed\",\"87\",\"84\",\"85\"\n",
      "\n",
      "\"female\",\"group D\",\"master's degree\",\"standard\",\"completed\",\"70\",\"71\",\"74\"\n",
      "\n",
      "\"male\",\"group E\",\"some college\",\"standard\",\"completed\",\"84\",\"83\",\"78\"\n",
      "\n",
      "\"male\",\"group D\",\"associate's degree\",\"standard\",\"none\",\"71\",\"66\",\"60\"\n",
      "\n",
      "\"male\",\"group B\",\"some high school\",\"standard\",\"completed\",\"63\",\"67\",\"67\"\n",
      "\n",
      "\"female\",\"group C\",\"bachelor's degree\",\"free/reduced\",\"completed\",\"51\",\"72\",\"79\"\n",
      "\n",
      "\"male\",\"group E\",\"high school\",\"standard\",\"none\",\"84\",\"73\",\"69\"\n",
      "\n",
      "\"male\",\"group C\",\"bachelor's degree\",\"standard\",\"completed\",\"71\",\"74\",\"68\"\n",
      "\n",
      "\"male\",\"group C\",\"associate's degree\",\"standard\",\"none\",\"74\",\"73\",\"67\"\n",
      "\n",
      "\"male\",\"group D\",\"some college\",\"standard\",\"none\",\"68\",\"59\",\"62\"\n",
      "\n",
      "\"male\",\"group E\",\"high school\",\"free/reduced\",\"completed\",\"57\",\"56\",\"54\"\n",
      "\n",
      "\"female\",\"group C\",\"associate's degree\",\"free/reduced\",\"completed\",\"82\",\"93\",\"93\"\n",
      "\n",
      "\"female\",\"group D\",\"high school\",\"standard\",\"completed\",\"57\",\"58\",\"64\"\n",
      "\n",
      "\"female\",\"group D\",\"master's degree\",\"free/reduced\",\"completed\",\"47\",\"58\",\"67\"\n",
      "\n",
      "\"female\",\"group A\",\"some high school\",\"standard\",\"completed\",\"59\",\"85\",\"80\"\n",
      "\n",
      "\"male\",\"group B\",\"some college\",\"free/reduced\",\"none\",\"41\",\"39\",\"34\"\n",
      "\n",
      "\"female\",\"group C\",\"some college\",\"free/reduced\",\"none\",\"62\",\"67\",\"62\"\n",
      "\n",
      "\"male\",\"group C\",\"bachelor's degree\",\"standard\",\"none\",\"86\",\"83\",\"86\"\n",
      "\n",
      "\"male\",\"group C\",\"some high school\",\"free/reduced\",\"none\",\"69\",\"71\",\"65\"\n",
      "\n",
      "\"male\",\"group A\",\"some high school\",\"free/reduced\",\"none\",\"65\",\"59\",\"53\"\n",
      "\n",
      "\"male\",\"group C\",\"some high school\",\"free/reduced\",\"none\",\"68\",\"63\",\"54\"\n",
      "\n",
      "\"male\",\"group C\",\"associate's degree\",\"free/reduced\",\"none\",\"64\",\"66\",\"59\"\n",
      "\n",
      "\"female\",\"group C\",\"high school\",\"standard\",\"none\",\"61\",\"72\",\"70\"\n",
      "\n",
      "\"male\",\"group C\",\"high school\",\"standard\",\"none\",\"61\",\"56\",\"55\"\n",
      "\n",
      "\"female\",\"group A\",\"some high school\",\"free/reduced\",\"none\",\"47\",\"59\",\"50\"\n",
      "\n",
      "\"male\",\"group C\",\"some high school\",\"standard\",\"none\",\"73\",\"66\",\"66\"\n",
      "\n",
      "\"male\",\"group C\",\"some college\",\"free/reduced\",\"completed\",\"50\",\"48\",\"53\"\n",
      "\n",
      "\"male\",\"group D\",\"associate's degree\",\"standard\",\"none\",\"75\",\"68\",\"64\"\n",
      "\n",
      "\"male\",\"group D\",\"associate's degree\",\"free/reduced\",\"none\",\"75\",\"66\",\"73\"\n",
      "\n",
      "\"male\",\"group C\",\"high school\",\"standard\",\"none\",\"70\",\"56\",\"51\"\n",
      "\n",
      "\"male\",\"group D\",\"some high school\",\"standard\",\"completed\",\"89\",\"88\",\"82\"\n",
      "\n",
      "\"female\",\"group C\",\"some college\",\"standard\",\"completed\",\"67\",\"81\",\"79\"\n",
      "\n",
      "\"female\",\"group D\",\"high school\",\"standard\",\"none\",\"78\",\"81\",\"80\"\n",
      "\n",
      "\"female\",\"group A\",\"some high school\",\"free/reduced\",\"none\",\"59\",\"73\",\"69\"\n",
      "\n",
      "\"female\",\"group B\",\"associate's degree\",\"standard\",\"none\",\"73\",\"83\",\"76\"\n",
      "\n",
      "\"male\",\"group A\",\"some high school\",\"free/reduced\",\"none\",\"79\",\"82\",\"73\"\n",
      "\n",
      "\"female\",\"group C\",\"some high school\",\"standard\",\"completed\",\"67\",\"74\",\"77\"\n",
      "\n",
      "\"male\",\"group D\",\"some college\",\"free/reduced\",\"none\",\"69\",\"66\",\"60\"\n",
      "\n",
      "\"male\",\"group C\",\"high school\",\"standard\",\"completed\",\"86\",\"81\",\"80\"\n",
      "\n",
      "\"male\",\"group B\",\"high school\",\"standard\",\"none\",\"47\",\"46\",\"42\"\n",
      "\n",
      "\"male\",\"group B\",\"associate's degree\",\"standard\",\"none\",\"81\",\"73\",\"72\"\n",
      "\n",
      "\"female\",\"group C\",\"some college\",\"free/reduced\",\"completed\",\"64\",\"85\",\"85\"\n",
      "\n",
      "\"female\",\"group E\",\"some college\",\"standard\",\"none\",\"100\",\"92\",\"97\"\n",
      "\n",
      "\"female\",\"group C\",\"associate's degree\",\"free/reduced\",\"none\",\"65\",\"77\",\"74\"\n",
      "\n",
      "\"male\",\"group C\",\"some college\",\"free/reduced\",\"none\",\"65\",\"58\",\"49\"\n",
      "\n",
      "\"female\",\"group C\",\"associate's degree\",\"free/reduced\",\"none\",\"53\",\"61\",\"62\"\n",
      "\n",
      "\"male\",\"group C\",\"bachelor's degree\",\"free/reduced\",\"none\",\"37\",\"56\",\"47\"\n",
      "\n",
      "\"female\",\"group D\",\"bachelor's degree\",\"standard\",\"none\",\"79\",\"89\",\"89\"\n",
      "\n",
      "\"male\",\"group D\",\"associate's degree\",\"free/reduced\",\"none\",\"53\",\"54\",\"48\"\n",
      "\n",
      "\"female\",\"group E\",\"bachelor's degree\",\"standard\",\"none\",\"100\",\"100\",\"100\"\n",
      "\n",
      "\"male\",\"group B\",\"high school\",\"standard\",\"completed\",\"72\",\"65\",\"68\"\n",
      "\n",
      "\"male\",\"group C\",\"bachelor's degree\",\"free/reduced\",\"none\",\"53\",\"58\",\"55\"\n",
      "\n",
      "\"male\",\"group B\",\"some college\",\"free/reduced\",\"none\",\"54\",\"54\",\"45\"\n",
      "\n",
      "\"female\",\"group E\",\"some college\",\"standard\",\"none\",\"71\",\"70\",\"76\"\n",
      "\n",
      "\"female\",\"group C\",\"some college\",\"free/reduced\",\"none\",\"77\",\"90\",\"91\"\n",
      "\n",
      "\"male\",\"group A\",\"bachelor's degree\",\"standard\",\"completed\",\"75\",\"58\",\"62\"\n",
      "\n",
      "\"female\",\"group C\",\"some college\",\"standard\",\"none\",\"84\",\"87\",\"91\"\n",
      "\n",
      "\"female\",\"group D\",\"associate's degree\",\"free/reduced\",\"none\",\"26\",\"31\",\"38\"\n",
      "\n",
      "\"male\",\"group A\",\"high school\",\"free/reduced\",\"completed\",\"72\",\"67\",\"65\"\n",
      "\n",
      "\"female\",\"group A\",\"high school\",\"free/reduced\",\"completed\",\"77\",\"88\",\"85\"\n",
      "\n",
      "\"male\",\"group C\",\"some college\",\"standard\",\"none\",\"91\",\"74\",\"76\"\n",
      "\n",
      "\"female\",\"group C\",\"associate's degree\",\"standard\",\"completed\",\"83\",\"85\",\"90\"\n",
      "\n",
      "\"female\",\"group C\",\"high school\",\"standard\",\"none\",\"63\",\"69\",\"74\"\n",
      "\n",
      "\"female\",\"group C\",\"associate's degree\",\"standard\",\"completed\",\"68\",\"86\",\"84\"\n",
      "\n",
      "\"female\",\"group D\",\"some high school\",\"standard\",\"none\",\"59\",\"67\",\"61\"\n",
      "\n",
      "\"female\",\"group B\",\"associate's degree\",\"standard\",\"completed\",\"90\",\"90\",\"91\"\n",
      "\n",
      "\"female\",\"group D\",\"bachelor's degree\",\"standard\",\"completed\",\"71\",\"76\",\"83\"\n",
      "\n",
      "\"male\",\"group E\",\"bachelor's degree\",\"standard\",\"completed\",\"76\",\"62\",\"66\"\n",
      "\n",
      "\"male\",\"group D\",\"associate's degree\",\"standard\",\"none\",\"80\",\"68\",\"72\"\n",
      "\n",
      "\"female\",\"group D\",\"master's degree\",\"standard\",\"none\",\"55\",\"64\",\"70\"\n",
      "\n",
      "\"male\",\"group E\",\"associate's degree\",\"standard\",\"none\",\"76\",\"71\",\"67\"\n",
      "\n",
      "\"male\",\"group B\",\"high school\",\"standard\",\"completed\",\"73\",\"71\",\"68\"\n",
      "\n",
      "\"female\",\"group D\",\"associate's degree\",\"free/reduced\",\"none\",\"52\",\"59\",\"56\"\n",
      "\n",
      "\"male\",\"group C\",\"some college\",\"free/reduced\",\"none\",\"68\",\"68\",\"61\"\n",
      "\n",
      "\"male\",\"group A\",\"high school\",\"standard\",\"none\",\"59\",\"52\",\"46\"\n",
      "\n",
      "\"female\",\"group B\",\"associate's degree\",\"standard\",\"none\",\"49\",\"52\",\"54\"\n",
      "\n",
      "\"male\",\"group C\",\"high school\",\"standard\",\"none\",\"70\",\"74\",\"71\"\n",
      "\n",
      "\"male\",\"group D\",\"some college\",\"free/reduced\",\"none\",\"61\",\"47\",\"56\"\n",
      "\n",
      "\"female\",\"group C\",\"associate's degree\",\"free/reduced\",\"none\",\"60\",\"75\",\"74\"\n",
      "\n",
      "\"male\",\"group B\",\"some high school\",\"standard\",\"completed\",\"64\",\"53\",\"57\"\n",
      "\n",
      "\"male\",\"group A\",\"associate's degree\",\"free/reduced\",\"completed\",\"79\",\"82\",\"82\"\n",
      "\n",
      "\"female\",\"group A\",\"associate's degree\",\"free/reduced\",\"none\",\"65\",\"85\",\"76\"\n",
      "\n",
      "\"female\",\"group C\",\"associate's degree\",\"standard\",\"none\",\"64\",\"64\",\"70\"\n",
      "\n",
      "\"female\",\"group C\",\"some college\",\"standard\",\"none\",\"83\",\"83\",\"90\"\n",
      "\n",
      "\"female\",\"group C\",\"bachelor's degree\",\"standard\",\"none\",\"81\",\"88\",\"90\"\n",
      "\n",
      "\"female\",\"group B\",\"high school\",\"standard\",\"none\",\"54\",\"64\",\"68\"\n",
      "\n",
      "\"male\",\"group D\",\"high school\",\"standard\",\"completed\",\"68\",\"64\",\"66\"\n",
      "\n",
      "\"female\",\"group C\",\"some college\",\"standard\",\"none\",\"54\",\"48\",\"52\"\n",
      "\n",
      "\"female\",\"group D\",\"some college\",\"free/reduced\",\"completed\",\"59\",\"78\",\"76\"\n",
      "\n",
      "\"female\",\"group B\",\"some high school\",\"standard\",\"none\",\"66\",\"69\",\"68\"\n",
      "\n",
      "\"male\",\"group E\",\"some college\",\"standard\",\"none\",\"76\",\"71\",\"72\"\n",
      "\n",
      "\"female\",\"group D\",\"master's degree\",\"standard\",\"none\",\"74\",\"79\",\"82\"\n",
      "\n",
      "\"female\",\"group B\",\"associate's degree\",\"standard\",\"completed\",\"94\",\"87\",\"92\"\n",
      "\n",
      "\"male\",\"group C\",\"some college\",\"free/reduced\",\"none\",\"63\",\"61\",\"54\"\n",
      "\n",
      "\"female\",\"group E\",\"associate's degree\",\"standard\",\"completed\",\"95\",\"89\",\"92\"\n",
      "\n",
      "\"female\",\"group D\",\"master's degree\",\"free/reduced\",\"none\",\"40\",\"59\",\"54\"\n",
      "\n",
      "\"female\",\"group B\",\"some high school\",\"standard\",\"none\",\"82\",\"82\",\"80\"\n",
      "\n",
      "\"male\",\"group A\",\"high school\",\"standard\",\"none\",\"68\",\"70\",\"66\"\n",
      "\n",
      "\"male\",\"group B\",\"bachelor's degree\",\"free/reduced\",\"none\",\"55\",\"59\",\"54\"\n",
      "\n",
      "\"male\",\"group C\",\"master's degree\",\"standard\",\"none\",\"79\",\"78\",\"77\"\n",
      "\n",
      "\"female\",\"group C\",\"bachelor's degree\",\"standard\",\"none\",\"86\",\"92\",\"87\"\n",
      "\n",
      "\"male\",\"group D\",\"some college\",\"standard\",\"none\",\"76\",\"71\",\"73\"\n",
      "\n",
      "\"male\",\"group A\",\"some high school\",\"standard\",\"none\",\"64\",\"50\",\"43\"\n",
      "\n",
      "\"male\",\"group D\",\"some high school\",\"free/reduced\",\"none\",\"62\",\"49\",\"52\"\n",
      "\n",
      "\"female\",\"group B\",\"some high school\",\"standard\",\"completed\",\"54\",\"61\",\"62\"\n",
      "\n",
      "\"female\",\"group B\",\"master's degree\",\"free/reduced\",\"completed\",\"77\",\"97\",\"94\"\n",
      "\n",
      "\"female\",\"group C\",\"some high school\",\"standard\",\"completed\",\"76\",\"87\",\"85\"\n",
      "\n",
      "\"female\",\"group D\",\"some college\",\"standard\",\"none\",\"74\",\"89\",\"84\"\n",
      "\n",
      "\"female\",\"group E\",\"some college\",\"standard\",\"completed\",\"66\",\"74\",\"73\"\n",
      "\n",
      "\"female\",\"group D\",\"some high school\",\"standard\",\"completed\",\"66\",\"78\",\"78\"\n",
      "\n",
      "\"female\",\"group B\",\"high school\",\"free/reduced\",\"completed\",\"67\",\"78\",\"79\"\n",
      "\n",
      "\"male\",\"group D\",\"some college\",\"standard\",\"none\",\"71\",\"49\",\"52\"\n",
      "\n",
      "\"female\",\"group C\",\"associate's degree\",\"standard\",\"none\",\"91\",\"86\",\"84\"\n",
      "\n",
      "\"male\",\"group D\",\"bachelor's degree\",\"standard\",\"none\",\"69\",\"58\",\"57\"\n",
      "\n",
      "\"male\",\"group C\",\"master's degree\",\"free/reduced\",\"none\",\"54\",\"59\",\"50\"\n",
      "\n",
      "\"male\",\"group C\",\"high school\",\"standard\",\"completed\",\"53\",\"52\",\"49\"\n",
      "\n",
      "\"male\",\"group E\",\"some college\",\"standard\",\"none\",\"68\",\"60\",\"59\"\n",
      "\n",
      "\"male\",\"group C\",\"some high school\",\"free/reduced\",\"completed\",\"56\",\"61\",\"60\"\n",
      "\n",
      "\"female\",\"group C\",\"high school\",\"free/reduced\",\"none\",\"36\",\"53\",\"43\"\n",
      "\n",
      "\"female\",\"group D\",\"bachelor's degree\",\"free/reduced\",\"none\",\"29\",\"41\",\"47\"\n",
      "\n",
      "\"female\",\"group C\",\"associate's degree\",\"standard\",\"none\",\"62\",\"74\",\"70\"\n",
      "\n",
      "\"female\",\"group C\",\"associate's degree\",\"standard\",\"completed\",\"68\",\"67\",\"73\"\n",
      "\n",
      "\"female\",\"group C\",\"some high school\",\"standard\",\"none\",\"47\",\"54\",\"53\"\n",
      "\n",
      "\"male\",\"group E\",\"associate's degree\",\"standard\",\"completed\",\"62\",\"61\",\"58\"\n",
      "\n",
      "\"female\",\"group E\",\"associate's degree\",\"standard\",\"completed\",\"79\",\"88\",\"94\"\n",
      "\n",
      "\"male\",\"group B\",\"high school\",\"standard\",\"completed\",\"73\",\"69\",\"68\"\n",
      "\n",
      "\"female\",\"group C\",\"bachelor's degree\",\"free/reduced\",\"completed\",\"66\",\"83\",\"83\"\n",
      "\n",
      "\"male\",\"group C\",\"associate's degree\",\"standard\",\"completed\",\"51\",\"60\",\"58\"\n",
      "\n",
      "\"female\",\"group D\",\"high school\",\"standard\",\"none\",\"51\",\"66\",\"62\"\n",
      "\n",
      "\"male\",\"group E\",\"bachelor's degree\",\"standard\",\"completed\",\"85\",\"66\",\"71\"\n",
      "\n",
      "\"male\",\"group A\",\"associate's degree\",\"standard\",\"completed\",\"97\",\"92\",\"86\"\n",
      "\n",
      "\"male\",\"group C\",\"high school\",\"standard\",\"completed\",\"75\",\"69\",\"68\"\n",
      "\n",
      "\"male\",\"group D\",\"associate's degree\",\"free/reduced\",\"completed\",\"79\",\"82\",\"80\"\n",
      "\n",
      "\"female\",\"group C\",\"associate's degree\",\"standard\",\"none\",\"81\",\"77\",\"79\"\n",
      "\n",
      "\"female\",\"group D\",\"associate's degree\",\"standard\",\"none\",\"82\",\"95\",\"89\"\n",
      "\n",
      "\"female\",\"group D\",\"master's degree\",\"standard\",\"none\",\"64\",\"63\",\"66\"\n",
      "\n",
      "\"male\",\"group E\",\"some high school\",\"free/reduced\",\"completed\",\"78\",\"83\",\"80\"\n",
      "\n",
      "\"female\",\"group A\",\"some high school\",\"standard\",\"completed\",\"92\",\"100\",\"97\"\n",
      "\n",
      "\"male\",\"group C\",\"high school\",\"standard\",\"completed\",\"72\",\"67\",\"64\"\n",
      "\n",
      "\"female\",\"group C\",\"high school\",\"free/reduced\",\"none\",\"62\",\"67\",\"64\"\n",
      "\n",
      "\"male\",\"group C\",\"master's degree\",\"standard\",\"none\",\"79\",\"72\",\"69\"\n",
      "\n",
      "\"male\",\"group C\",\"some high school\",\"free/reduced\",\"none\",\"79\",\"76\",\"65\"\n",
      "\n",
      "\"male\",\"group B\",\"bachelor's degree\",\"free/reduced\",\"completed\",\"87\",\"90\",\"88\"\n",
      "\n",
      "\"female\",\"group B\",\"associate's degree\",\"standard\",\"none\",\"40\",\"48\",\"50\"\n",
      "\n",
      "\"male\",\"group D\",\"some college\",\"free/reduced\",\"none\",\"77\",\"62\",\"64\"\n",
      "\n",
      "\"male\",\"group E\",\"associate's degree\",\"standard\",\"none\",\"53\",\"45\",\"40\"\n",
      "\n",
      "\"female\",\"group C\",\"some college\",\"free/reduced\",\"none\",\"32\",\"39\",\"33\"\n",
      "\n",
      "\"female\",\"group C\",\"associate's degree\",\"standard\",\"completed\",\"55\",\"72\",\"79\"\n",
      "\n",
      "\"male\",\"group C\",\"master's degree\",\"free/reduced\",\"none\",\"61\",\"67\",\"66\"\n",
      "\n",
      "\"female\",\"group B\",\"associate's degree\",\"free/reduced\",\"none\",\"53\",\"70\",\"70\"\n",
      "\n",
      "\"male\",\"group D\",\"some high school\",\"standard\",\"none\",\"73\",\"66\",\"62\"\n",
      "\n",
      "\"female\",\"group D\",\"some college\",\"standard\",\"completed\",\"74\",\"75\",\"79\"\n",
      "\n",
      "\"female\",\"group C\",\"some college\",\"standard\",\"none\",\"63\",\"74\",\"74\"\n",
      "\n",
      "\"male\",\"group C\",\"bachelor's degree\",\"standard\",\"completed\",\"96\",\"90\",\"92\"\n",
      "\n",
      "\"female\",\"group D\",\"some college\",\"free/reduced\",\"completed\",\"63\",\"80\",\"80\"\n",
      "\n",
      "\"male\",\"group B\",\"bachelor's degree\",\"free/reduced\",\"none\",\"48\",\"51\",\"46\"\n",
      "\n",
      "\"male\",\"group B\",\"associate's degree\",\"standard\",\"none\",\"48\",\"43\",\"45\"\n",
      "\n",
      "\"female\",\"group E\",\"bachelor's degree\",\"free/reduced\",\"completed\",\"92\",\"100\",\"100\"\n",
      "\n",
      "\"female\",\"group D\",\"master's degree\",\"free/reduced\",\"completed\",\"61\",\"71\",\"78\"\n",
      "\n",
      "\"male\",\"group B\",\"high school\",\"free/reduced\",\"none\",\"63\",\"48\",\"47\"\n",
      "\n",
      "\"male\",\"group D\",\"bachelor's degree\",\"free/reduced\",\"none\",\"68\",\"68\",\"67\"\n",
      "\n",
      "\"male\",\"group B\",\"some college\",\"standard\",\"completed\",\"71\",\"75\",\"70\"\n",
      "\n",
      "\"male\",\"group A\",\"bachelor's degree\",\"standard\",\"none\",\"91\",\"96\",\"92\"\n",
      "\n",
      "\"female\",\"group C\",\"some college\",\"standard\",\"none\",\"53\",\"62\",\"56\"\n",
      "\n",
      "\"female\",\"group C\",\"high school\",\"free/reduced\",\"completed\",\"50\",\"66\",\"64\"\n",
      "\n",
      "\"female\",\"group E\",\"high school\",\"standard\",\"none\",\"74\",\"81\",\"71\"\n",
      "\n",
      "\"male\",\"group A\",\"associate's degree\",\"free/reduced\",\"completed\",\"40\",\"55\",\"53\"\n",
      "\n",
      "\"male\",\"group A\",\"some college\",\"standard\",\"completed\",\"61\",\"51\",\"52\"\n",
      "\n",
      "\"female\",\"group B\",\"high school\",\"standard\",\"none\",\"81\",\"91\",\"89\"\n",
      "\n",
      "\"female\",\"group B\",\"some college\",\"free/reduced\",\"completed\",\"48\",\"56\",\"58\"\n",
      "\n",
      "\"female\",\"group D\",\"master's degree\",\"standard\",\"none\",\"53\",\"61\",\"68\"\n",
      "\n",
      "\"female\",\"group D\",\"some high school\",\"standard\",\"none\",\"81\",\"97\",\"96\"\n",
      "\n",
      "\"female\",\"group E\",\"some high school\",\"standard\",\"none\",\"77\",\"79\",\"80\"\n",
      "\n",
      "\"female\",\"group D\",\"bachelor's degree\",\"free/reduced\",\"none\",\"63\",\"73\",\"78\"\n",
      "\n",
      "\"female\",\"group D\",\"associate's degree\",\"standard\",\"completed\",\"73\",\"75\",\"80\"\n",
      "\n",
      "\"female\",\"group D\",\"some college\",\"standard\",\"none\",\"69\",\"77\",\"77\"\n",
      "\n",
      "\"female\",\"group C\",\"associate's degree\",\"standard\",\"none\",\"65\",\"76\",\"76\"\n",
      "\n",
      "\"female\",\"group A\",\"high school\",\"standard\",\"none\",\"55\",\"73\",\"73\"\n",
      "\n",
      "\"female\",\"group C\",\"bachelor's degree\",\"free/reduced\",\"none\",\"44\",\"63\",\"62\"\n",
      "\n",
      "\"female\",\"group C\",\"some college\",\"standard\",\"none\",\"54\",\"64\",\"65\"\n",
      "\n",
      "\"female\",\"group A\",\"some high school\",\"standard\",\"none\",\"48\",\"66\",\"65\"\n",
      "\n",
      "\"male\",\"group C\",\"some college\",\"free/reduced\",\"none\",\"58\",\"57\",\"54\"\n",
      "\n",
      "\"male\",\"group A\",\"some high school\",\"standard\",\"none\",\"71\",\"62\",\"50\"\n",
      "\n",
      "\"male\",\"group E\",\"bachelor's degree\",\"standard\",\"none\",\"68\",\"68\",\"64\"\n",
      "\n",
      "\"female\",\"group E\",\"high school\",\"standard\",\"none\",\"74\",\"76\",\"73\"\n",
      "\n",
      "\"female\",\"group C\",\"bachelor's degree\",\"standard\",\"completed\",\"92\",\"100\",\"99\"\n",
      "\n",
      "\"female\",\"group C\",\"bachelor's degree\",\"standard\",\"completed\",\"56\",\"79\",\"72\"\n",
      "\n",
      "\"male\",\"group B\",\"high school\",\"free/reduced\",\"none\",\"30\",\"24\",\"15\"\n",
      "\n",
      "\"male\",\"group A\",\"some high school\",\"standard\",\"none\",\"53\",\"54\",\"48\"\n",
      "\n",
      "\"female\",\"group D\",\"high school\",\"standard\",\"none\",\"69\",\"77\",\"73\"\n",
      "\n",
      "\"female\",\"group D\",\"some high school\",\"standard\",\"none\",\"65\",\"82\",\"81\"\n",
      "\n",
      "\"female\",\"group D\",\"master's degree\",\"standard\",\"none\",\"54\",\"60\",\"63\"\n",
      "\n",
      "\"female\",\"group C\",\"high school\",\"standard\",\"none\",\"29\",\"29\",\"30\"\n",
      "\n",
      "\"female\",\"group E\",\"some college\",\"standard\",\"none\",\"76\",\"78\",\"80\"\n",
      "\n",
      "\"male\",\"group D\",\"high school\",\"free/reduced\",\"none\",\"60\",\"57\",\"51\"\n",
      "\n",
      "\"male\",\"group D\",\"master's degree\",\"free/reduced\",\"completed\",\"84\",\"89\",\"90\"\n",
      "\n",
      "\"male\",\"group C\",\"some high school\",\"standard\",\"none\",\"75\",\"72\",\"62\"\n",
      "\n",
      "\"female\",\"group C\",\"associate's degree\",\"standard\",\"none\",\"85\",\"84\",\"82\"\n",
      "\n",
      "\"female\",\"group C\",\"master's degree\",\"free/reduced\",\"none\",\"40\",\"58\",\"54\"\n",
      "\n",
      "\"female\",\"group E\",\"some college\",\"standard\",\"none\",\"61\",\"64\",\"62\"\n",
      "\n",
      "\"female\",\"group B\",\"associate's degree\",\"standard\",\"none\",\"58\",\"63\",\"65\"\n",
      "\n",
      "\"male\",\"group D\",\"some college\",\"free/reduced\",\"completed\",\"69\",\"60\",\"63\"\n",
      "\n",
      "\"female\",\"group C\",\"some college\",\"standard\",\"none\",\"58\",\"59\",\"66\"\n",
      "\n",
      "\"male\",\"group C\",\"bachelor's degree\",\"standard\",\"completed\",\"94\",\"90\",\"91\"\n",
      "\n",
      "\"female\",\"group C\",\"associate's degree\",\"standard\",\"none\",\"65\",\"77\",\"74\"\n",
      "\n",
      "\"female\",\"group A\",\"associate's degree\",\"standard\",\"none\",\"82\",\"93\",\"93\"\n",
      "\n",
      "\"female\",\"group C\",\"high school\",\"standard\",\"none\",\"60\",\"68\",\"72\"\n",
      "\n",
      "\"female\",\"group E\",\"bachelor's degree\",\"standard\",\"none\",\"37\",\"45\",\"38\"\n",
      "\n",
      "\"male\",\"group D\",\"bachelor's degree\",\"standard\",\"none\",\"88\",\"78\",\"83\"\n",
      "\n",
      "\"male\",\"group D\",\"master's degree\",\"standard\",\"none\",\"95\",\"81\",\"84\"\n",
      "\n",
      "\"male\",\"group C\",\"associate's degree\",\"free/reduced\",\"completed\",\"65\",\"73\",\"68\"\n",
      "\n",
      "\"female\",\"group C\",\"high school\",\"free/reduced\",\"none\",\"35\",\"61\",\"54\"\n",
      "\n",
      "\"male\",\"group B\",\"bachelor's degree\",\"free/reduced\",\"none\",\"62\",\"63\",\"56\"\n",
      "\n",
      "\"male\",\"group C\",\"high school\",\"free/reduced\",\"completed\",\"58\",\"51\",\"52\"\n",
      "\n",
      "\"male\",\"group A\",\"some college\",\"standard\",\"completed\",\"100\",\"96\",\"86\"\n",
      "\n",
      "\"female\",\"group E\",\"bachelor's degree\",\"free/reduced\",\"none\",\"61\",\"58\",\"62\"\n",
      "\n",
      "\"male\",\"group D\",\"some college\",\"standard\",\"completed\",\"100\",\"97\",\"99\"\n",
      "\n",
      "\"male\",\"group B\",\"associate's degree\",\"free/reduced\",\"completed\",\"69\",\"70\",\"63\"\n",
      "\n",
      "\"male\",\"group D\",\"associate's degree\",\"standard\",\"none\",\"61\",\"48\",\"46\"\n",
      "\n",
      "\"male\",\"group D\",\"some college\",\"free/reduced\",\"none\",\"49\",\"57\",\"46\"\n",
      "\n",
      "\"female\",\"group C\",\"some high school\",\"standard\",\"completed\",\"44\",\"51\",\"55\"\n",
      "\n",
      "\"male\",\"group D\",\"some college\",\"standard\",\"none\",\"67\",\"64\",\"70\"\n",
      "\n",
      "\"male\",\"group B\",\"high school\",\"standard\",\"none\",\"79\",\"60\",\"65\"\n",
      "\n",
      "\"female\",\"group B\",\"bachelor's degree\",\"standard\",\"completed\",\"66\",\"74\",\"81\"\n",
      "\n",
      "\"female\",\"group C\",\"high school\",\"standard\",\"none\",\"75\",\"88\",\"85\"\n",
      "\n",
      "\"male\",\"group D\",\"some high school\",\"standard\",\"none\",\"84\",\"84\",\"80\"\n",
      "\n",
      "\"male\",\"group A\",\"high school\",\"standard\",\"none\",\"71\",\"74\",\"64\"\n",
      "\n",
      "\"female\",\"group B\",\"high school\",\"free/reduced\",\"completed\",\"67\",\"80\",\"81\"\n",
      "\n",
      "\"female\",\"group D\",\"some high school\",\"standard\",\"completed\",\"80\",\"92\",\"88\"\n",
      "\n",
      "\"male\",\"group E\",\"some college\",\"standard\",\"none\",\"86\",\"76\",\"74\"\n",
      "\n",
      "\"female\",\"group D\",\"associate's degree\",\"standard\",\"none\",\"76\",\"74\",\"73\"\n",
      "\n",
      "\"male\",\"group D\",\"high school\",\"standard\",\"none\",\"41\",\"52\",\"51\"\n",
      "\n",
      "\"female\",\"group D\",\"associate's degree\",\"free/reduced\",\"completed\",\"74\",\"88\",\"90\"\n",
      "\n",
      "\"female\",\"group B\",\"some high school\",\"free/reduced\",\"none\",\"72\",\"81\",\"79\"\n",
      "\n",
      "\"female\",\"group E\",\"high school\",\"standard\",\"completed\",\"74\",\"79\",\"80\"\n",
      "\n",
      "\"male\",\"group B\",\"high school\",\"standard\",\"none\",\"70\",\"65\",\"60\"\n",
      "\n",
      "\"female\",\"group B\",\"bachelor's degree\",\"standard\",\"completed\",\"65\",\"81\",\"81\"\n",
      "\n",
      "\"female\",\"group D\",\"associate's degree\",\"standard\",\"none\",\"59\",\"70\",\"65\"\n",
      "\n",
      "\"female\",\"group E\",\"high school\",\"free/reduced\",\"none\",\"64\",\"62\",\"68\"\n",
      "\n",
      "\"female\",\"group B\",\"high school\",\"standard\",\"none\",\"50\",\"53\",\"55\"\n",
      "\n",
      "\"female\",\"group D\",\"some college\",\"standard\",\"completed\",\"69\",\"79\",\"81\"\n",
      "\n",
      "\"male\",\"group C\",\"some high school\",\"free/reduced\",\"completed\",\"51\",\"56\",\"53\"\n",
      "\n",
      "\"female\",\"group A\",\"high school\",\"standard\",\"completed\",\"68\",\"80\",\"76\"\n",
      "\n",
      "\"female\",\"group D\",\"some college\",\"standard\",\"completed\",\"85\",\"86\",\"98\"\n",
      "\n",
      "\"female\",\"group A\",\"associate's degree\",\"standard\",\"completed\",\"65\",\"70\",\"74\"\n",
      "\n",
      "\"female\",\"group B\",\"some high school\",\"standard\",\"none\",\"73\",\"79\",\"79\"\n",
      "\n",
      "\"female\",\"group B\",\"some college\",\"standard\",\"none\",\"62\",\"67\",\"67\"\n",
      "\n",
      "\"male\",\"group C\",\"associate's degree\",\"free/reduced\",\"none\",\"77\",\"67\",\"64\"\n",
      "\n",
      "\"male\",\"group D\",\"some high school\",\"standard\",\"none\",\"69\",\"66\",\"61\"\n",
      "\n",
      "\"female\",\"group D\",\"associate's degree\",\"free/reduced\",\"none\",\"43\",\"60\",\"58\"\n",
      "\n",
      "\"male\",\"group D\",\"associate's degree\",\"standard\",\"none\",\"90\",\"87\",\"85\"\n",
      "\n",
      "\"male\",\"group C\",\"some college\",\"free/reduced\",\"none\",\"74\",\"77\",\"73\"\n",
      "\n",
      "\"male\",\"group C\",\"some high school\",\"standard\",\"none\",\"73\",\"66\",\"63\"\n",
      "\n",
      "\"female\",\"group D\",\"some college\",\"free/reduced\",\"none\",\"55\",\"71\",\"69\"\n",
      "\n",
      "\"female\",\"group C\",\"high school\",\"standard\",\"none\",\"65\",\"69\",\"67\"\n",
      "\n",
      "\"male\",\"group D\",\"associate's degree\",\"standard\",\"none\",\"80\",\"63\",\"63\"\n",
      "\n",
      "\"female\",\"group C\",\"some high school\",\"free/reduced\",\"completed\",\"50\",\"60\",\"60\"\n",
      "\n",
      "\"female\",\"group C\",\"some college\",\"free/reduced\",\"completed\",\"63\",\"73\",\"71\"\n",
      "\n",
      "\"female\",\"group B\",\"bachelor's degree\",\"free/reduced\",\"none\",\"77\",\"85\",\"87\"\n",
      "\n",
      "\"male\",\"group C\",\"some college\",\"standard\",\"none\",\"73\",\"74\",\"61\"\n",
      "\n",
      "\"male\",\"group D\",\"associate's degree\",\"standard\",\"completed\",\"81\",\"72\",\"77\"\n",
      "\n",
      "\"female\",\"group C\",\"high school\",\"free/reduced\",\"none\",\"66\",\"76\",\"68\"\n",
      "\n",
      "\"male\",\"group D\",\"associate's degree\",\"free/reduced\",\"none\",\"52\",\"57\",\"50\"\n",
      "\n",
      "\"female\",\"group C\",\"some college\",\"standard\",\"none\",\"69\",\"78\",\"76\"\n",
      "\n",
      "\"female\",\"group C\",\"associate's degree\",\"standard\",\"completed\",\"65\",\"84\",\"84\"\n",
      "\n",
      "\"female\",\"group D\",\"high school\",\"standard\",\"completed\",\"69\",\"77\",\"78\"\n",
      "\n",
      "\"female\",\"group B\",\"some college\",\"standard\",\"completed\",\"50\",\"64\",\"66\"\n",
      "\n",
      "\"female\",\"group E\",\"some college\",\"standard\",\"completed\",\"73\",\"78\",\"76\"\n",
      "\n",
      "\"female\",\"group C\",\"some high school\",\"standard\",\"completed\",\"70\",\"82\",\"76\"\n",
      "\n",
      "\"male\",\"group D\",\"associate's degree\",\"free/reduced\",\"none\",\"81\",\"75\",\"78\"\n",
      "\n",
      "\"male\",\"group D\",\"some college\",\"free/reduced\",\"none\",\"63\",\"61\",\"60\"\n",
      "\n",
      "\"female\",\"group D\",\"high school\",\"standard\",\"none\",\"67\",\"72\",\"74\"\n",
      "\n",
      "\"male\",\"group B\",\"high school\",\"standard\",\"none\",\"60\",\"68\",\"60\"\n",
      "\n",
      "\"male\",\"group B\",\"high school\",\"standard\",\"none\",\"62\",\"55\",\"54\"\n",
      "\n",
      "\"female\",\"group C\",\"some high school\",\"free/reduced\",\"completed\",\"29\",\"40\",\"44\"\n",
      "\n",
      "\"male\",\"group B\",\"some college\",\"standard\",\"completed\",\"62\",\"66\",\"68\"\n",
      "\n",
      "\"female\",\"group E\",\"master's degree\",\"standard\",\"completed\",\"94\",\"99\",\"100\"\n",
      "\n",
      "\"male\",\"group E\",\"some college\",\"standard\",\"completed\",\"85\",\"75\",\"68\"\n",
      "\n",
      "\"male\",\"group D\",\"associate's degree\",\"free/reduced\",\"none\",\"77\",\"78\",\"73\"\n",
      "\n",
      "\"male\",\"group A\",\"high school\",\"free/reduced\",\"none\",\"53\",\"58\",\"44\"\n",
      "\n",
      "\"male\",\"group E\",\"some college\",\"free/reduced\",\"none\",\"93\",\"90\",\"83\"\n",
      "\n",
      "\"female\",\"group C\",\"associate's degree\",\"standard\",\"none\",\"49\",\"53\",\"53\"\n",
      "\n",
      "\"female\",\"group E\",\"associate's degree\",\"free/reduced\",\"none\",\"73\",\"76\",\"78\"\n",
      "\n",
      "\"female\",\"group C\",\"bachelor's degree\",\"free/reduced\",\"completed\",\"66\",\"74\",\"81\"\n",
      "\n",
      "\"female\",\"group D\",\"associate's degree\",\"standard\",\"none\",\"77\",\"77\",\"73\"\n",
      "\n",
      "\"female\",\"group C\",\"some high school\",\"standard\",\"none\",\"49\",\"63\",\"56\"\n",
      "\n",
      "\"female\",\"group D\",\"some college\",\"free/reduced\",\"none\",\"79\",\"89\",\"86\"\n",
      "\n",
      "\"female\",\"group C\",\"associate's degree\",\"standard\",\"completed\",\"75\",\"82\",\"90\"\n",
      "\n",
      "\"female\",\"group A\",\"bachelor's degree\",\"standard\",\"none\",\"59\",\"72\",\"70\"\n",
      "\n",
      "\"female\",\"group D\",\"associate's degree\",\"standard\",\"completed\",\"57\",\"78\",\"79\"\n",
      "\n",
      "\"male\",\"group C\",\"high school\",\"free/reduced\",\"none\",\"66\",\"66\",\"59\"\n",
      "\n",
      "\"female\",\"group E\",\"bachelor's degree\",\"standard\",\"completed\",\"79\",\"81\",\"82\"\n",
      "\n",
      "\"female\",\"group B\",\"some high school\",\"standard\",\"none\",\"57\",\"67\",\"72\"\n",
      "\n",
      "\"male\",\"group A\",\"bachelor's degree\",\"standard\",\"completed\",\"87\",\"84\",\"87\"\n",
      "\n",
      "\"female\",\"group D\",\"some college\",\"standard\",\"none\",\"63\",\"64\",\"67\"\n",
      "\n",
      "\"female\",\"group B\",\"some high school\",\"free/reduced\",\"completed\",\"59\",\"63\",\"64\"\n",
      "\n",
      "\"male\",\"group A\",\"bachelor's degree\",\"free/reduced\",\"none\",\"62\",\"72\",\"65\"\n",
      "\n",
      "\"male\",\"group D\",\"high school\",\"standard\",\"none\",\"46\",\"34\",\"36\"\n",
      "\n",
      "\"male\",\"group C\",\"some college\",\"standard\",\"none\",\"66\",\"59\",\"52\"\n",
      "\n",
      "\"male\",\"group D\",\"high school\",\"standard\",\"none\",\"89\",\"87\",\"79\"\n",
      "\n",
      "\"female\",\"group D\",\"associate's degree\",\"free/reduced\",\"completed\",\"42\",\"61\",\"58\"\n",
      "\n",
      "\"male\",\"group C\",\"some college\",\"standard\",\"completed\",\"93\",\"84\",\"90\"\n",
      "\n",
      "\"female\",\"group E\",\"some high school\",\"standard\",\"completed\",\"80\",\"85\",\"85\"\n",
      "\n",
      "\"female\",\"group D\",\"some college\",\"standard\",\"none\",\"98\",\"100\",\"99\"\n",
      "\n",
      "\"male\",\"group D\",\"master's degree\",\"standard\",\"none\",\"81\",\"81\",\"84\"\n",
      "\n",
      "\"female\",\"group B\",\"some high school\",\"standard\",\"completed\",\"60\",\"70\",\"74\"\n",
      "\n",
      "\"female\",\"group B\",\"associate's degree\",\"free/reduced\",\"completed\",\"76\",\"94\",\"87\"\n",
      "\n",
      "\"male\",\"group C\",\"associate's degree\",\"standard\",\"completed\",\"73\",\"78\",\"72\"\n",
      "\n",
      "\"female\",\"group C\",\"associate's degree\",\"standard\",\"completed\",\"96\",\"96\",\"99\"\n",
      "\n",
      "\"female\",\"group C\",\"high school\",\"standard\",\"none\",\"76\",\"76\",\"74\"\n",
      "\n",
      "\"male\",\"group E\",\"associate's degree\",\"free/reduced\",\"completed\",\"91\",\"73\",\"80\"\n",
      "\n",
      "\"female\",\"group C\",\"some college\",\"free/reduced\",\"none\",\"62\",\"72\",\"70\"\n",
      "\n",
      "\"male\",\"group D\",\"some high school\",\"free/reduced\",\"completed\",\"55\",\"59\",\"59\"\n",
      "\n",
      "\"female\",\"group B\",\"some high school\",\"free/reduced\",\"completed\",\"74\",\"90\",\"88\"\n",
      "\n",
      "\"male\",\"group C\",\"high school\",\"standard\",\"none\",\"50\",\"48\",\"42\"\n",
      "\n",
      "\"male\",\"group B\",\"some college\",\"standard\",\"none\",\"47\",\"43\",\"41\"\n",
      "\n",
      "\"male\",\"group E\",\"some college\",\"standard\",\"completed\",\"81\",\"74\",\"71\"\n",
      "\n",
      "\"female\",\"group E\",\"associate's degree\",\"standard\",\"completed\",\"65\",\"75\",\"77\"\n",
      "\n",
      "\"male\",\"group E\",\"some high school\",\"standard\",\"completed\",\"68\",\"51\",\"57\"\n",
      "\n",
      "\"female\",\"group D\",\"high school\",\"free/reduced\",\"none\",\"73\",\"92\",\"84\"\n",
      "\n",
      "\"male\",\"group C\",\"some college\",\"standard\",\"none\",\"53\",\"39\",\"37\"\n",
      "\n",
      "\"female\",\"group B\",\"associate's degree\",\"free/reduced\",\"completed\",\"68\",\"77\",\"80\"\n",
      "\n",
      "\"male\",\"group A\",\"some high school\",\"free/reduced\",\"none\",\"55\",\"46\",\"43\"\n",
      "\n",
      "\"female\",\"group C\",\"some college\",\"standard\",\"completed\",\"87\",\"89\",\"94\"\n",
      "\n",
      "\"male\",\"group D\",\"some high school\",\"standard\",\"none\",\"55\",\"47\",\"44\"\n",
      "\n",
      "\"female\",\"group E\",\"some college\",\"free/reduced\",\"none\",\"53\",\"58\",\"57\"\n",
      "\n",
      "\"male\",\"group C\",\"master's degree\",\"standard\",\"none\",\"67\",\"57\",\"59\"\n",
      "\n",
      "\"male\",\"group C\",\"associate's degree\",\"standard\",\"none\",\"92\",\"79\",\"84\"\n",
      "\n",
      "\"female\",\"group B\",\"some college\",\"free/reduced\",\"completed\",\"53\",\"66\",\"73\"\n",
      "\n",
      "\"male\",\"group D\",\"associate's degree\",\"standard\",\"none\",\"81\",\"71\",\"73\"\n",
      "\n",
      "\"male\",\"group C\",\"high school\",\"free/reduced\",\"none\",\"61\",\"60\",\"55\"\n",
      "\n",
      "\"male\",\"group D\",\"bachelor's degree\",\"standard\",\"none\",\"80\",\"73\",\"72\"\n",
      "\n",
      "\"female\",\"group A\",\"associate's degree\",\"free/reduced\",\"none\",\"37\",\"57\",\"56\"\n",
      "\n",
      "\"female\",\"group C\",\"high school\",\"standard\",\"none\",\"81\",\"84\",\"82\"\n",
      "\n",
      "\"female\",\"group C\",\"associate's degree\",\"standard\",\"completed\",\"59\",\"73\",\"72\"\n",
      "\n",
      "\"male\",\"group B\",\"some college\",\"free/reduced\",\"none\",\"55\",\"55\",\"47\"\n",
      "\n",
      "\"male\",\"group D\",\"associate's degree\",\"standard\",\"none\",\"72\",\"79\",\"74\"\n",
      "\n",
      "\"male\",\"group D\",\"high school\",\"standard\",\"none\",\"69\",\"75\",\"71\"\n",
      "\n",
      "\"male\",\"group C\",\"some college\",\"standard\",\"none\",\"69\",\"64\",\"68\"\n",
      "\n",
      "\"female\",\"group C\",\"bachelor's degree\",\"free/reduced\",\"none\",\"50\",\"60\",\"59\"\n",
      "\n",
      "\"male\",\"group B\",\"some college\",\"standard\",\"completed\",\"87\",\"84\",\"86\"\n",
      "\n",
      "\"male\",\"group D\",\"some high school\",\"standard\",\"completed\",\"71\",\"69\",\"68\"\n",
      "\n",
      "\"male\",\"group E\",\"some college\",\"standard\",\"none\",\"68\",\"72\",\"65\"\n",
      "\n",
      "\"male\",\"group C\",\"master's degree\",\"free/reduced\",\"completed\",\"79\",\"77\",\"75\"\n",
      "\n",
      "\"female\",\"group C\",\"some high school\",\"standard\",\"completed\",\"77\",\"90\",\"85\"\n",
      "\n",
      "\"male\",\"group C\",\"associate's degree\",\"free/reduced\",\"none\",\"58\",\"55\",\"53\"\n",
      "\n",
      "\"female\",\"group E\",\"associate's degree\",\"standard\",\"none\",\"84\",\"95\",\"92\"\n",
      "\n",
      "\"male\",\"group D\",\"some college\",\"standard\",\"none\",\"55\",\"58\",\"52\"\n",
      "\n",
      "\"male\",\"group E\",\"bachelor's degree\",\"free/reduced\",\"completed\",\"70\",\"68\",\"72\"\n",
      "\n",
      "\"female\",\"group D\",\"some college\",\"free/reduced\",\"completed\",\"52\",\"59\",\"65\"\n",
      "\n",
      "\"male\",\"group B\",\"some college\",\"standard\",\"completed\",\"69\",\"77\",\"77\"\n",
      "\n",
      "\"female\",\"group C\",\"high school\",\"free/reduced\",\"none\",\"53\",\"72\",\"64\"\n",
      "\n",
      "\"female\",\"group D\",\"some high school\",\"standard\",\"none\",\"48\",\"58\",\"54\"\n",
      "\n",
      "\"male\",\"group D\",\"some high school\",\"standard\",\"completed\",\"78\",\"81\",\"86\"\n",
      "\n",
      "\"female\",\"group B\",\"high school\",\"standard\",\"none\",\"62\",\"62\",\"63\"\n",
      "\n",
      "\"male\",\"group D\",\"some college\",\"standard\",\"none\",\"60\",\"63\",\"59\"\n",
      "\n",
      "\"female\",\"group B\",\"high school\",\"standard\",\"none\",\"74\",\"72\",\"72\"\n",
      "\n",
      "\"female\",\"group C\",\"high school\",\"standard\",\"completed\",\"58\",\"75\",\"77\"\n",
      "\n",
      "\"male\",\"group B\",\"high school\",\"standard\",\"completed\",\"76\",\"62\",\"60\"\n",
      "\n",
      "\"female\",\"group D\",\"some high school\",\"standard\",\"none\",\"68\",\"71\",\"75\"\n",
      "\n",
      "\"male\",\"group A\",\"some college\",\"free/reduced\",\"none\",\"58\",\"60\",\"57\"\n",
      "\n",
      "\"male\",\"group B\",\"high school\",\"standard\",\"none\",\"52\",\"48\",\"49\"\n",
      "\n",
      "\"male\",\"group D\",\"bachelor's degree\",\"standard\",\"none\",\"75\",\"73\",\"74\"\n",
      "\n",
      "\"female\",\"group B\",\"some high school\",\"free/reduced\",\"completed\",\"52\",\"67\",\"72\"\n",
      "\n",
      "\"female\",\"group C\",\"bachelor's degree\",\"free/reduced\",\"none\",\"62\",\"78\",\"79\"\n",
      "\n",
      "\"male\",\"group B\",\"some college\",\"standard\",\"none\",\"66\",\"65\",\"60\"\n",
      "\n",
      "\"female\",\"group B\",\"some high school\",\"free/reduced\",\"none\",\"49\",\"58\",\"55\"\n",
      "\n",
      "\"female\",\"group B\",\"high school\",\"standard\",\"none\",\"66\",\"72\",\"70\"\n",
      "\n",
      "\"female\",\"group C\",\"some college\",\"free/reduced\",\"none\",\"35\",\"44\",\"43\"\n",
      "\n",
      "\"female\",\"group A\",\"some college\",\"standard\",\"completed\",\"72\",\"79\",\"82\"\n",
      "\n",
      "\"male\",\"group E\",\"associate's degree\",\"standard\",\"completed\",\"94\",\"85\",\"82\"\n",
      "\n",
      "\"female\",\"group D\",\"associate's degree\",\"free/reduced\",\"none\",\"46\",\"56\",\"57\"\n",
      "\n",
      "\"female\",\"group B\",\"master's degree\",\"standard\",\"none\",\"77\",\"90\",\"84\"\n",
      "\n",
      "\"female\",\"group B\",\"high school\",\"free/reduced\",\"completed\",\"76\",\"85\",\"82\"\n",
      "\n",
      "\"female\",\"group C\",\"associate's degree\",\"standard\",\"completed\",\"52\",\"59\",\"62\"\n",
      "\n",
      "\"male\",\"group C\",\"bachelor's degree\",\"standard\",\"completed\",\"91\",\"81\",\"79\"\n",
      "\n",
      "\"female\",\"group B\",\"some high school\",\"standard\",\"completed\",\"32\",\"51\",\"44\"\n",
      "\n",
      "\"female\",\"group E\",\"some high school\",\"free/reduced\",\"none\",\"72\",\"79\",\"77\"\n",
      "\n",
      "\"female\",\"group B\",\"some college\",\"standard\",\"none\",\"19\",\"38\",\"32\"\n",
      "\n",
      "\"male\",\"group C\",\"associate's degree\",\"free/reduced\",\"none\",\"68\",\"65\",\"61\"\n",
      "\n",
      "\"female\",\"group C\",\"master's degree\",\"free/reduced\",\"none\",\"52\",\"65\",\"61\"\n",
      "\n",
      "\"female\",\"group B\",\"high school\",\"standard\",\"none\",\"48\",\"62\",\"60\"\n",
      "\n",
      "\"female\",\"group D\",\"some college\",\"free/reduced\",\"none\",\"60\",\"66\",\"70\"\n",
      "\n",
      "\"male\",\"group D\",\"high school\",\"free/reduced\",\"none\",\"66\",\"74\",\"69\"\n",
      "\n",
      "\"male\",\"group E\",\"some high school\",\"standard\",\"completed\",\"89\",\"84\",\"77\"\n",
      "\n",
      "\"female\",\"group B\",\"high school\",\"standard\",\"none\",\"42\",\"52\",\"51\"\n",
      "\n",
      "\"female\",\"group E\",\"associate's degree\",\"free/reduced\",\"completed\",\"57\",\"68\",\"73\"\n",
      "\n",
      "\"male\",\"group D\",\"high school\",\"standard\",\"none\",\"70\",\"70\",\"70\"\n",
      "\n",
      "\"female\",\"group E\",\"associate's degree\",\"free/reduced\",\"none\",\"70\",\"84\",\"81\"\n",
      "\n",
      "\"male\",\"group E\",\"some college\",\"standard\",\"none\",\"69\",\"60\",\"54\"\n",
      "\n",
      "\"female\",\"group C\",\"associate's degree\",\"standard\",\"none\",\"52\",\"55\",\"57\"\n",
      "\n",
      "\"male\",\"group C\",\"some high school\",\"standard\",\"completed\",\"67\",\"73\",\"68\"\n",
      "\n",
      "\"male\",\"group C\",\"some high school\",\"standard\",\"completed\",\"76\",\"80\",\"73\"\n",
      "\n",
      "\"female\",\"group E\",\"associate's degree\",\"standard\",\"none\",\"87\",\"94\",\"95\"\n",
      "\n",
      "\"female\",\"group B\",\"some college\",\"standard\",\"none\",\"82\",\"85\",\"87\"\n",
      "\n",
      "\"female\",\"group C\",\"some college\",\"standard\",\"none\",\"73\",\"76\",\"78\"\n",
      "\n",
      "\"male\",\"group A\",\"some college\",\"free/reduced\",\"none\",\"75\",\"81\",\"74\"\n",
      "\n",
      "\"female\",\"group D\",\"some college\",\"free/reduced\",\"none\",\"64\",\"74\",\"75\"\n",
      "\n",
      "\"female\",\"group E\",\"high school\",\"free/reduced\",\"none\",\"41\",\"45\",\"40\"\n",
      "\n",
      "\"male\",\"group C\",\"high school\",\"standard\",\"none\",\"90\",\"75\",\"69\"\n",
      "\n",
      "\"male\",\"group B\",\"bachelor's degree\",\"standard\",\"none\",\"59\",\"54\",\"51\"\n",
      "\n",
      "\"male\",\"group A\",\"some high school\",\"standard\",\"none\",\"51\",\"31\",\"36\"\n",
      "\n",
      "\"male\",\"group A\",\"high school\",\"free/reduced\",\"none\",\"45\",\"47\",\"49\"\n",
      "\n",
      "\"female\",\"group C\",\"master's degree\",\"standard\",\"completed\",\"54\",\"64\",\"67\"\n",
      "\n",
      "\"male\",\"group E\",\"some high school\",\"standard\",\"completed\",\"87\",\"84\",\"76\"\n",
      "\n",
      "\"female\",\"group C\",\"high school\",\"standard\",\"none\",\"72\",\"80\",\"83\"\n",
      "\n",
      "\"male\",\"group B\",\"some high school\",\"standard\",\"completed\",\"94\",\"86\",\"87\"\n",
      "\n",
      "\"female\",\"group A\",\"bachelor's degree\",\"standard\",\"none\",\"45\",\"59\",\"64\"\n",
      "\n",
      "\"male\",\"group D\",\"bachelor's degree\",\"free/reduced\",\"completed\",\"61\",\"70\",\"76\"\n",
      "\n",
      "\"female\",\"group B\",\"high school\",\"free/reduced\",\"none\",\"60\",\"72\",\"68\"\n",
      "\n",
      "\"female\",\"group C\",\"some high school\",\"standard\",\"none\",\"77\",\"91\",\"88\"\n",
      "\n",
      "\"female\",\"group A\",\"some high school\",\"standard\",\"completed\",\"85\",\"90\",\"92\"\n",
      "\n",
      "\"female\",\"group D\",\"bachelor's degree\",\"free/reduced\",\"none\",\"78\",\"90\",\"93\"\n",
      "\n",
      "\"male\",\"group E\",\"some college\",\"free/reduced\",\"completed\",\"49\",\"52\",\"51\"\n",
      "\n",
      "\"female\",\"group B\",\"high school\",\"free/reduced\",\"none\",\"71\",\"87\",\"82\"\n",
      "\n",
      "\"female\",\"group C\",\"some high school\",\"free/reduced\",\"none\",\"48\",\"58\",\"52\"\n",
      "\n",
      "\"male\",\"group C\",\"high school\",\"standard\",\"none\",\"62\",\"67\",\"58\"\n",
      "\n",
      "\"female\",\"group C\",\"associate's degree\",\"free/reduced\",\"completed\",\"56\",\"68\",\"70\"\n",
      "\n",
      "\"female\",\"group C\",\"some high school\",\"standard\",\"none\",\"65\",\"69\",\"76\"\n",
      "\n",
      "\"female\",\"group D\",\"some high school\",\"free/reduced\",\"completed\",\"69\",\"86\",\"81\"\n",
      "\n",
      "\"male\",\"group B\",\"some high school\",\"standard\",\"none\",\"68\",\"54\",\"53\"\n",
      "\n",
      "\"female\",\"group A\",\"some college\",\"free/reduced\",\"none\",\"61\",\"60\",\"57\"\n",
      "\n",
      "\"female\",\"group C\",\"bachelor's degree\",\"free/reduced\",\"completed\",\"74\",\"86\",\"89\"\n",
      "\n",
      "\"male\",\"group A\",\"bachelor's degree\",\"standard\",\"none\",\"64\",\"60\",\"58\"\n",
      "\n",
      "\"female\",\"group B\",\"high school\",\"standard\",\"completed\",\"77\",\"82\",\"89\"\n",
      "\n",
      "\"male\",\"group B\",\"some college\",\"standard\",\"none\",\"58\",\"50\",\"45\"\n",
      "\n",
      "\"female\",\"group C\",\"high school\",\"standard\",\"completed\",\"60\",\"64\",\"74\"\n",
      "\n",
      "\"male\",\"group E\",\"high school\",\"standard\",\"none\",\"73\",\"64\",\"57\"\n",
      "\n",
      "\"female\",\"group A\",\"high school\",\"standard\",\"completed\",\"75\",\"82\",\"79\"\n",
      "\n",
      "\"male\",\"group B\",\"associate's degree\",\"free/reduced\",\"completed\",\"58\",\"57\",\"53\"\n",
      "\n",
      "\"female\",\"group C\",\"associate's degree\",\"standard\",\"none\",\"66\",\"77\",\"73\"\n",
      "\n",
      "\"female\",\"group D\",\"high school\",\"free/reduced\",\"none\",\"39\",\"52\",\"46\"\n",
      "\n",
      "\"male\",\"group C\",\"some high school\",\"standard\",\"none\",\"64\",\"58\",\"51\"\n",
      "\n",
      "\"female\",\"group B\",\"high school\",\"free/reduced\",\"completed\",\"23\",\"44\",\"36\"\n",
      "\n",
      "\"male\",\"group B\",\"some college\",\"free/reduced\",\"completed\",\"74\",\"77\",\"76\"\n",
      "\n",
      "\"female\",\"group D\",\"some high school\",\"free/reduced\",\"completed\",\"40\",\"65\",\"64\"\n",
      "\n",
      "\"male\",\"group E\",\"master's degree\",\"standard\",\"none\",\"90\",\"85\",\"84\"\n",
      "\n",
      "\"male\",\"group C\",\"master's degree\",\"standard\",\"completed\",\"91\",\"85\",\"85\"\n",
      "\n",
      "\"male\",\"group D\",\"high school\",\"standard\",\"none\",\"64\",\"54\",\"50\"\n",
      "\n",
      "\"female\",\"group C\",\"high school\",\"standard\",\"none\",\"59\",\"72\",\"68\"\n",
      "\n",
      "\"male\",\"group D\",\"associate's degree\",\"standard\",\"none\",\"80\",\"75\",\"69\"\n",
      "\n",
      "\"male\",\"group C\",\"master's degree\",\"standard\",\"none\",\"71\",\"67\",\"67\"\n",
      "\n",
      "\"female\",\"group A\",\"high school\",\"standard\",\"none\",\"61\",\"68\",\"63\"\n",
      "\n",
      "\"female\",\"group E\",\"some college\",\"standard\",\"none\",\"87\",\"85\",\"93\"\n",
      "\n",
      "\"male\",\"group E\",\"some high school\",\"standard\",\"none\",\"82\",\"67\",\"61\"\n",
      "\n",
      "\"male\",\"group C\",\"some high school\",\"standard\",\"none\",\"62\",\"64\",\"55\"\n",
      "\n",
      "\"female\",\"group B\",\"bachelor's degree\",\"standard\",\"none\",\"97\",\"97\",\"96\"\n",
      "\n",
      "\"male\",\"group B\",\"some college\",\"free/reduced\",\"none\",\"75\",\"68\",\"65\"\n",
      "\n",
      "\"female\",\"group C\",\"bachelor's degree\",\"standard\",\"none\",\"65\",\"79\",\"81\"\n",
      "\n",
      "\"male\",\"group B\",\"high school\",\"standard\",\"completed\",\"52\",\"49\",\"46\"\n",
      "\n",
      "\"male\",\"group C\",\"associate's degree\",\"free/reduced\",\"none\",\"87\",\"73\",\"72\"\n",
      "\n",
      "\"female\",\"group C\",\"associate's degree\",\"standard\",\"none\",\"53\",\"62\",\"53\"\n",
      "\n",
      "\"female\",\"group E\",\"master's degree\",\"free/reduced\",\"none\",\"81\",\"86\",\"87\"\n",
      "\n",
      "\"male\",\"group D\",\"bachelor's degree\",\"free/reduced\",\"completed\",\"39\",\"42\",\"38\"\n",
      "\n",
      "\"female\",\"group C\",\"some college\",\"standard\",\"completed\",\"71\",\"71\",\"80\"\n",
      "\n",
      "\"male\",\"group C\",\"associate's degree\",\"standard\",\"none\",\"97\",\"93\",\"91\"\n",
      "\n",
      "\"male\",\"group D\",\"some college\",\"standard\",\"completed\",\"82\",\"82\",\"88\"\n",
      "\n",
      "\"male\",\"group C\",\"high school\",\"free/reduced\",\"none\",\"59\",\"53\",\"52\"\n",
      "\n",
      "\"male\",\"group B\",\"associate's degree\",\"standard\",\"none\",\"61\",\"42\",\"41\"\n",
      "\n",
      "\"male\",\"group E\",\"associate's degree\",\"free/reduced\",\"completed\",\"78\",\"74\",\"72\"\n",
      "\n",
      "\"male\",\"group C\",\"associate's degree\",\"free/reduced\",\"none\",\"49\",\"51\",\"51\"\n",
      "\n",
      "\"male\",\"group B\",\"high school\",\"standard\",\"none\",\"59\",\"58\",\"47\"\n",
      "\n",
      "\"female\",\"group C\",\"some college\",\"standard\",\"completed\",\"70\",\"72\",\"76\"\n",
      "\n",
      "\"male\",\"group B\",\"associate's degree\",\"standard\",\"completed\",\"82\",\"84\",\"78\"\n",
      "\n",
      "\"male\",\"group E\",\"associate's degree\",\"free/reduced\",\"none\",\"90\",\"90\",\"82\"\n",
      "\n",
      "\"female\",\"group C\",\"bachelor's degree\",\"free/reduced\",\"none\",\"43\",\"62\",\"61\"\n",
      "\n",
      "\"male\",\"group C\",\"some college\",\"free/reduced\",\"none\",\"80\",\"64\",\"66\"\n",
      "\n",
      "\"male\",\"group D\",\"some college\",\"standard\",\"none\",\"81\",\"82\",\"84\"\n",
      "\n",
      "\"male\",\"group C\",\"some high school\",\"standard\",\"none\",\"57\",\"61\",\"54\"\n",
      "\n",
      "\"female\",\"group D\",\"some high school\",\"standard\",\"none\",\"59\",\"72\",\"80\"\n",
      "\n",
      "\"female\",\"group D\",\"associate's degree\",\"standard\",\"none\",\"64\",\"76\",\"74\"\n",
      "\n",
      "\"male\",\"group C\",\"bachelor's degree\",\"standard\",\"completed\",\"63\",\"64\",\"66\"\n",
      "\n",
      "\"female\",\"group E\",\"bachelor's degree\",\"standard\",\"completed\",\"71\",\"70\",\"70\"\n",
      "\n",
      "\"female\",\"group B\",\"high school\",\"free/reduced\",\"none\",\"64\",\"73\",\"71\"\n",
      "\n",
      "\"male\",\"group D\",\"bachelor's degree\",\"free/reduced\",\"none\",\"55\",\"46\",\"44\"\n",
      "\n",
      "\"female\",\"group E\",\"associate's degree\",\"standard\",\"none\",\"51\",\"51\",\"54\"\n",
      "\n",
      "\"female\",\"group C\",\"associate's degree\",\"standard\",\"completed\",\"62\",\"76\",\"80\"\n",
      "\n",
      "\"female\",\"group E\",\"associate's degree\",\"standard\",\"completed\",\"93\",\"100\",\"95\"\n",
      "\n",
      "\"male\",\"group C\",\"high school\",\"free/reduced\",\"none\",\"54\",\"72\",\"59\"\n",
      "\n",
      "\"female\",\"group D\",\"some college\",\"free/reduced\",\"none\",\"69\",\"65\",\"74\"\n",
      "\n",
      "\"male\",\"group D\",\"high school\",\"free/reduced\",\"none\",\"44\",\"51\",\"48\"\n",
      "\n",
      "\"female\",\"group E\",\"some college\",\"standard\",\"completed\",\"86\",\"85\",\"91\"\n",
      "\n",
      "\"female\",\"group E\",\"associate's degree\",\"standard\",\"none\",\"85\",\"92\",\"85\"\n",
      "\n",
      "\"female\",\"group A\",\"master's degree\",\"free/reduced\",\"none\",\"50\",\"67\",\"73\"\n",
      "\n",
      "\"male\",\"group D\",\"some high school\",\"standard\",\"completed\",\"88\",\"74\",\"75\"\n",
      "\n",
      "\"female\",\"group E\",\"associate's degree\",\"standard\",\"none\",\"59\",\"62\",\"69\"\n",
      "\n",
      "\"female\",\"group E\",\"some high school\",\"free/reduced\",\"none\",\"32\",\"34\",\"38\"\n",
      "\n",
      "\"male\",\"group B\",\"high school\",\"free/reduced\",\"none\",\"36\",\"29\",\"27\"\n",
      "\n",
      "\"female\",\"group B\",\"some high school\",\"free/reduced\",\"completed\",\"63\",\"78\",\"79\"\n",
      "\n",
      "\"male\",\"group D\",\"associate's degree\",\"standard\",\"completed\",\"67\",\"54\",\"63\"\n",
      "\n",
      "\"female\",\"group D\",\"some high school\",\"standard\",\"completed\",\"65\",\"78\",\"82\"\n",
      "\n",
      "\"male\",\"group D\",\"master's degree\",\"standard\",\"none\",\"85\",\"84\",\"89\"\n",
      "\n",
      "\"female\",\"group C\",\"master's degree\",\"standard\",\"none\",\"73\",\"78\",\"74\"\n",
      "\n",
      "\"female\",\"group A\",\"high school\",\"free/reduced\",\"completed\",\"34\",\"48\",\"41\"\n",
      "\n",
      "\"female\",\"group D\",\"bachelor's degree\",\"free/reduced\",\"completed\",\"93\",\"100\",\"100\"\n",
      "\n",
      "\"female\",\"group D\",\"some high school\",\"free/reduced\",\"none\",\"67\",\"84\",\"84\"\n",
      "\n",
      "\"male\",\"group D\",\"some college\",\"standard\",\"none\",\"88\",\"77\",\"77\"\n",
      "\n",
      "\"male\",\"group B\",\"high school\",\"standard\",\"none\",\"57\",\"48\",\"51\"\n",
      "\n",
      "\"female\",\"group D\",\"some college\",\"standard\",\"completed\",\"79\",\"84\",\"91\"\n",
      "\n",
      "\"female\",\"group C\",\"bachelor's degree\",\"free/reduced\",\"none\",\"67\",\"75\",\"72\"\n",
      "\n",
      "\"male\",\"group E\",\"bachelor's degree\",\"standard\",\"completed\",\"70\",\"64\",\"70\"\n",
      "\n",
      "\"male\",\"group D\",\"bachelor's degree\",\"free/reduced\",\"none\",\"50\",\"42\",\"48\"\n",
      "\n",
      "\"female\",\"group A\",\"some college\",\"standard\",\"none\",\"69\",\"84\",\"82\"\n",
      "\n",
      "\"female\",\"group C\",\"bachelor's degree\",\"standard\",\"completed\",\"52\",\"61\",\"66\"\n",
      "\n",
      "\"female\",\"group C\",\"bachelor's degree\",\"free/reduced\",\"completed\",\"47\",\"62\",\"66\"\n",
      "\n",
      "\"female\",\"group B\",\"associate's degree\",\"free/reduced\",\"none\",\"46\",\"61\",\"55\"\n",
      "\n",
      "\"female\",\"group E\",\"some college\",\"standard\",\"none\",\"68\",\"70\",\"66\"\n",
      "\n",
      "\"male\",\"group E\",\"bachelor's degree\",\"standard\",\"completed\",\"100\",\"100\",\"100\"\n",
      "\n",
      "\"female\",\"group C\",\"high school\",\"standard\",\"none\",\"44\",\"61\",\"52\"\n",
      "\n",
      "\"female\",\"group C\",\"associate's degree\",\"standard\",\"completed\",\"57\",\"77\",\"80\"\n",
      "\n",
      "\"male\",\"group B\",\"some college\",\"standard\",\"completed\",\"91\",\"96\",\"91\"\n",
      "\n",
      "\"male\",\"group D\",\"high school\",\"free/reduced\",\"none\",\"69\",\"70\",\"67\"\n",
      "\n",
      "\"female\",\"group C\",\"high school\",\"free/reduced\",\"none\",\"35\",\"53\",\"46\"\n",
      "\n",
      "\"male\",\"group D\",\"high school\",\"standard\",\"none\",\"72\",\"66\",\"66\"\n",
      "\n",
      "\"female\",\"group B\",\"associate's degree\",\"free/reduced\",\"none\",\"54\",\"65\",\"65\"\n",
      "\n",
      "\"male\",\"group D\",\"high school\",\"free/reduced\",\"none\",\"74\",\"70\",\"69\"\n",
      "\n",
      "\"male\",\"group E\",\"some high school\",\"standard\",\"completed\",\"74\",\"64\",\"60\"\n",
      "\n",
      "\"male\",\"group E\",\"associate's degree\",\"free/reduced\",\"none\",\"64\",\"56\",\"52\"\n",
      "\n",
      "\"female\",\"group D\",\"high school\",\"free/reduced\",\"completed\",\"65\",\"61\",\"71\"\n",
      "\n",
      "\"male\",\"group E\",\"associate's degree\",\"free/reduced\",\"completed\",\"46\",\"43\",\"44\"\n",
      "\n",
      "\"female\",\"group C\",\"some high school\",\"free/reduced\",\"none\",\"48\",\"56\",\"51\"\n",
      "\n",
      "\"male\",\"group C\",\"some college\",\"free/reduced\",\"completed\",\"67\",\"74\",\"70\"\n",
      "\n",
      "\"male\",\"group D\",\"some college\",\"free/reduced\",\"none\",\"62\",\"57\",\"62\"\n",
      "\n",
      "\"male\",\"group D\",\"associate's degree\",\"free/reduced\",\"completed\",\"61\",\"71\",\"73\"\n",
      "\n",
      "\"male\",\"group C\",\"bachelor's degree\",\"free/reduced\",\"completed\",\"70\",\"75\",\"74\"\n",
      "\n",
      "\"male\",\"group C\",\"associate's degree\",\"standard\",\"completed\",\"98\",\"87\",\"90\"\n",
      "\n",
      "\"male\",\"group D\",\"some college\",\"free/reduced\",\"none\",\"70\",\"63\",\"58\"\n",
      "\n",
      "\"male\",\"group A\",\"associate's degree\",\"standard\",\"none\",\"67\",\"57\",\"53\"\n",
      "\n",
      "\"female\",\"group E\",\"high school\",\"free/reduced\",\"none\",\"57\",\"58\",\"57\"\n",
      "\n",
      "\"male\",\"group D\",\"some college\",\"standard\",\"completed\",\"85\",\"81\",\"85\"\n",
      "\n",
      "\"male\",\"group D\",\"some high school\",\"standard\",\"completed\",\"77\",\"68\",\"69\"\n",
      "\n",
      "\"male\",\"group C\",\"master's degree\",\"free/reduced\",\"completed\",\"72\",\"66\",\"72\"\n",
      "\n",
      "\"female\",\"group D\",\"master's degree\",\"standard\",\"none\",\"78\",\"91\",\"96\"\n",
      "\n",
      "\"male\",\"group C\",\"high school\",\"standard\",\"none\",\"81\",\"66\",\"64\"\n",
      "\n",
      "\"male\",\"group A\",\"some high school\",\"free/reduced\",\"completed\",\"61\",\"62\",\"61\"\n",
      "\n",
      "\"female\",\"group B\",\"high school\",\"standard\",\"none\",\"58\",\"68\",\"61\"\n",
      "\n",
      "\"female\",\"group C\",\"associate's degree\",\"standard\",\"none\",\"54\",\"61\",\"58\"\n",
      "\n",
      "\"male\",\"group B\",\"high school\",\"standard\",\"none\",\"82\",\"82\",\"80\"\n",
      "\n",
      "\"female\",\"group D\",\"some college\",\"free/reduced\",\"none\",\"49\",\"58\",\"60\"\n",
      "\n",
      "\"male\",\"group B\",\"some high school\",\"free/reduced\",\"completed\",\"49\",\"50\",\"52\"\n",
      "\n",
      "\"female\",\"group E\",\"high school\",\"free/reduced\",\"completed\",\"57\",\"75\",\"73\"\n",
      "\n",
      "\"male\",\"group E\",\"high school\",\"standard\",\"none\",\"94\",\"73\",\"71\"\n",
      "\n",
      "\"female\",\"group D\",\"some college\",\"standard\",\"completed\",\"75\",\"77\",\"83\"\n",
      "\n",
      "\"female\",\"group E\",\"some high school\",\"free/reduced\",\"none\",\"74\",\"74\",\"72\"\n",
      "\n",
      "\"male\",\"group C\",\"high school\",\"standard\",\"completed\",\"58\",\"52\",\"54\"\n",
      "\n",
      "\"female\",\"group C\",\"some college\",\"standard\",\"none\",\"62\",\"69\",\"69\"\n",
      "\n",
      "\"male\",\"group E\",\"associate's degree\",\"standard\",\"none\",\"72\",\"57\",\"62\"\n",
      "\n",
      "\"male\",\"group C\",\"some college\",\"standard\",\"none\",\"84\",\"87\",\"81\"\n",
      "\n",
      "\"female\",\"group D\",\"master's degree\",\"standard\",\"none\",\"92\",\"100\",\"100\"\n",
      "\n",
      "\"female\",\"group D\",\"high school\",\"standard\",\"none\",\"45\",\"63\",\"59\"\n",
      "\n",
      "\"male\",\"group C\",\"high school\",\"standard\",\"none\",\"75\",\"81\",\"71\"\n",
      "\n",
      "\"female\",\"group A\",\"some college\",\"standard\",\"none\",\"56\",\"58\",\"64\"\n",
      "\n",
      "\"female\",\"group D\",\"some high school\",\"free/reduced\",\"none\",\"48\",\"54\",\"53\"\n",
      "\n",
      "\"female\",\"group E\",\"associate's degree\",\"standard\",\"none\",\"100\",\"100\",\"100\"\n",
      "\n",
      "\"female\",\"group C\",\"some high school\",\"free/reduced\",\"completed\",\"65\",\"76\",\"75\"\n",
      "\n",
      "\"male\",\"group D\",\"some college\",\"standard\",\"none\",\"72\",\"57\",\"58\"\n",
      "\n",
      "\"female\",\"group D\",\"some college\",\"standard\",\"none\",\"62\",\"70\",\"72\"\n",
      "\n",
      "\"male\",\"group A\",\"some high school\",\"standard\",\"completed\",\"66\",\"68\",\"64\"\n",
      "\n",
      "\"male\",\"group C\",\"some college\",\"standard\",\"none\",\"63\",\"63\",\"60\"\n",
      "\n",
      "\"female\",\"group E\",\"associate's degree\",\"standard\",\"none\",\"68\",\"76\",\"67\"\n",
      "\n",
      "\"female\",\"group B\",\"bachelor's degree\",\"standard\",\"none\",\"75\",\"84\",\"80\"\n",
      "\n",
      "\"female\",\"group D\",\"bachelor's degree\",\"standard\",\"none\",\"89\",\"100\",\"100\"\n",
      "\n",
      "\"male\",\"group C\",\"some high school\",\"standard\",\"completed\",\"78\",\"72\",\"69\"\n",
      "\n",
      "\"female\",\"group A\",\"high school\",\"free/reduced\",\"completed\",\"53\",\"50\",\"60\"\n",
      "\n",
      "\"female\",\"group D\",\"some college\",\"free/reduced\",\"none\",\"49\",\"65\",\"61\"\n",
      "\n",
      "\"female\",\"group A\",\"some college\",\"standard\",\"none\",\"54\",\"63\",\"67\"\n",
      "\n",
      "\"female\",\"group C\",\"some college\",\"standard\",\"completed\",\"64\",\"82\",\"77\"\n",
      "\n",
      "\"male\",\"group B\",\"some college\",\"free/reduced\",\"completed\",\"60\",\"62\",\"60\"\n",
      "\n",
      "\"male\",\"group C\",\"associate's degree\",\"standard\",\"none\",\"62\",\"65\",\"58\"\n",
      "\n",
      "\"male\",\"group D\",\"high school\",\"standard\",\"completed\",\"55\",\"41\",\"48\"\n",
      "\n",
      "\"female\",\"group C\",\"associate's degree\",\"standard\",\"none\",\"91\",\"95\",\"94\"\n",
      "\n",
      "\"female\",\"group B\",\"high school\",\"free/reduced\",\"none\",\"8\",\"24\",\"23\"\n",
      "\n",
      "\"male\",\"group D\",\"some high school\",\"standard\",\"none\",\"81\",\"78\",\"78\"\n",
      "\n",
      "\"male\",\"group B\",\"some high school\",\"standard\",\"completed\",\"79\",\"85\",\"86\"\n",
      "\n",
      "\"female\",\"group A\",\"some college\",\"standard\",\"completed\",\"78\",\"87\",\"91\"\n",
      "\n",
      "\"female\",\"group C\",\"some high school\",\"standard\",\"none\",\"74\",\"75\",\"82\"\n",
      "\n",
      "\"male\",\"group A\",\"high school\",\"standard\",\"none\",\"57\",\"51\",\"54\"\n",
      "\n",
      "\"female\",\"group C\",\"associate's degree\",\"standard\",\"none\",\"40\",\"59\",\"51\"\n",
      "\n",
      "\"male\",\"group E\",\"some high school\",\"standard\",\"completed\",\"81\",\"75\",\"76\"\n",
      "\n",
      "\"female\",\"group A\",\"some high school\",\"free/reduced\",\"none\",\"44\",\"45\",\"45\"\n",
      "\n",
      "\"female\",\"group D\",\"some college\",\"free/reduced\",\"completed\",\"67\",\"86\",\"83\"\n",
      "\n",
      "\"male\",\"group E\",\"high school\",\"free/reduced\",\"completed\",\"86\",\"81\",\"75\"\n",
      "\n",
      "\"female\",\"group B\",\"some high school\",\"standard\",\"completed\",\"65\",\"82\",\"78\"\n",
      "\n",
      "\"female\",\"group D\",\"associate's degree\",\"free/reduced\",\"none\",\"55\",\"76\",\"76\"\n",
      "\n",
      "\"female\",\"group D\",\"bachelor's degree\",\"free/reduced\",\"none\",\"62\",\"72\",\"74\"\n",
      "\n",
      "\"male\",\"group A\",\"high school\",\"standard\",\"none\",\"63\",\"63\",\"62\"\n",
      "\n",
      "\"female\",\"group E\",\"master's degree\",\"standard\",\"completed\",\"88\",\"99\",\"95\"\n",
      "\n",
      "\"male\",\"group C\",\"high school\",\"free/reduced\",\"none\",\"62\",\"55\",\"55\"\n",
      "\n",
      "\"female\",\"group C\",\"high school\",\"free/reduced\",\"completed\",\"59\",\"71\",\"65\"\n",
      "\n",
      "\"female\",\"group D\",\"some college\",\"standard\",\"completed\",\"68\",\"78\",\"77\"\n",
      "\n",
      "\"female\",\"group D\",\"some college\",\"free/reduced\",\"none\",\"77\",\"86\",\"86\"\n",
      "\n"
     ]
    }
   ],
   "source": [
    "for line in f:\n",
    "         print(line)\n",
    "f.close()"
   ]
  },
  {
   "cell_type": "code",
   "execution_count": 91,
   "metadata": {},
   "outputs": [],
   "source": [
    "import pandas as pd"
   ]
  },
  {
   "cell_type": "code",
   "execution_count": 93,
   "metadata": {},
   "outputs": [],
   "source": [
    "df = pd.read_csv('StudentsPerformance.xls')"
   ]
  },
  {
   "cell_type": "code",
   "execution_count": 94,
   "metadata": {},
   "outputs": [
    {
     "data": {
      "text/html": [
       "<div>\n",
       "<style scoped>\n",
       "    .dataframe tbody tr th:only-of-type {\n",
       "        vertical-align: middle;\n",
       "    }\n",
       "\n",
       "    .dataframe tbody tr th {\n",
       "        vertical-align: top;\n",
       "    }\n",
       "\n",
       "    .dataframe thead th {\n",
       "        text-align: right;\n",
       "    }\n",
       "</style>\n",
       "<table border=\"1\" class=\"dataframe\">\n",
       "  <thead>\n",
       "    <tr style=\"text-align: right;\">\n",
       "      <th></th>\n",
       "      <th>gender</th>\n",
       "      <th>race/ethnicity</th>\n",
       "      <th>parental level of education</th>\n",
       "      <th>lunch</th>\n",
       "      <th>test preparation course</th>\n",
       "      <th>math score</th>\n",
       "      <th>reading score</th>\n",
       "      <th>writing score</th>\n",
       "    </tr>\n",
       "  </thead>\n",
       "  <tbody>\n",
       "    <tr>\n",
       "      <th>0</th>\n",
       "      <td>female</td>\n",
       "      <td>group B</td>\n",
       "      <td>bachelor's degree</td>\n",
       "      <td>standard</td>\n",
       "      <td>none</td>\n",
       "      <td>72</td>\n",
       "      <td>72</td>\n",
       "      <td>74</td>\n",
       "    </tr>\n",
       "    <tr>\n",
       "      <th>1</th>\n",
       "      <td>female</td>\n",
       "      <td>group C</td>\n",
       "      <td>some college</td>\n",
       "      <td>standard</td>\n",
       "      <td>completed</td>\n",
       "      <td>69</td>\n",
       "      <td>90</td>\n",
       "      <td>88</td>\n",
       "    </tr>\n",
       "    <tr>\n",
       "      <th>2</th>\n",
       "      <td>female</td>\n",
       "      <td>group B</td>\n",
       "      <td>master's degree</td>\n",
       "      <td>standard</td>\n",
       "      <td>none</td>\n",
       "      <td>90</td>\n",
       "      <td>95</td>\n",
       "      <td>93</td>\n",
       "    </tr>\n",
       "    <tr>\n",
       "      <th>3</th>\n",
       "      <td>male</td>\n",
       "      <td>group A</td>\n",
       "      <td>associate's degree</td>\n",
       "      <td>free/reduced</td>\n",
       "      <td>none</td>\n",
       "      <td>47</td>\n",
       "      <td>57</td>\n",
       "      <td>44</td>\n",
       "    </tr>\n",
       "    <tr>\n",
       "      <th>4</th>\n",
       "      <td>male</td>\n",
       "      <td>group C</td>\n",
       "      <td>some college</td>\n",
       "      <td>standard</td>\n",
       "      <td>none</td>\n",
       "      <td>76</td>\n",
       "      <td>78</td>\n",
       "      <td>75</td>\n",
       "    </tr>\n",
       "    <tr>\n",
       "      <th>...</th>\n",
       "      <td>...</td>\n",
       "      <td>...</td>\n",
       "      <td>...</td>\n",
       "      <td>...</td>\n",
       "      <td>...</td>\n",
       "      <td>...</td>\n",
       "      <td>...</td>\n",
       "      <td>...</td>\n",
       "    </tr>\n",
       "    <tr>\n",
       "      <th>995</th>\n",
       "      <td>female</td>\n",
       "      <td>group E</td>\n",
       "      <td>master's degree</td>\n",
       "      <td>standard</td>\n",
       "      <td>completed</td>\n",
       "      <td>88</td>\n",
       "      <td>99</td>\n",
       "      <td>95</td>\n",
       "    </tr>\n",
       "    <tr>\n",
       "      <th>996</th>\n",
       "      <td>male</td>\n",
       "      <td>group C</td>\n",
       "      <td>high school</td>\n",
       "      <td>free/reduced</td>\n",
       "      <td>none</td>\n",
       "      <td>62</td>\n",
       "      <td>55</td>\n",
       "      <td>55</td>\n",
       "    </tr>\n",
       "    <tr>\n",
       "      <th>997</th>\n",
       "      <td>female</td>\n",
       "      <td>group C</td>\n",
       "      <td>high school</td>\n",
       "      <td>free/reduced</td>\n",
       "      <td>completed</td>\n",
       "      <td>59</td>\n",
       "      <td>71</td>\n",
       "      <td>65</td>\n",
       "    </tr>\n",
       "    <tr>\n",
       "      <th>998</th>\n",
       "      <td>female</td>\n",
       "      <td>group D</td>\n",
       "      <td>some college</td>\n",
       "      <td>standard</td>\n",
       "      <td>completed</td>\n",
       "      <td>68</td>\n",
       "      <td>78</td>\n",
       "      <td>77</td>\n",
       "    </tr>\n",
       "    <tr>\n",
       "      <th>999</th>\n",
       "      <td>female</td>\n",
       "      <td>group D</td>\n",
       "      <td>some college</td>\n",
       "      <td>free/reduced</td>\n",
       "      <td>none</td>\n",
       "      <td>77</td>\n",
       "      <td>86</td>\n",
       "      <td>86</td>\n",
       "    </tr>\n",
       "  </tbody>\n",
       "</table>\n",
       "<p>1000 rows × 8 columns</p>\n",
       "</div>"
      ],
      "text/plain": [
       "     gender race/ethnicity parental level of education         lunch  \\\n",
       "0    female        group B           bachelor's degree      standard   \n",
       "1    female        group C                some college      standard   \n",
       "2    female        group B             master's degree      standard   \n",
       "3      male        group A          associate's degree  free/reduced   \n",
       "4      male        group C                some college      standard   \n",
       "..      ...            ...                         ...           ...   \n",
       "995  female        group E             master's degree      standard   \n",
       "996    male        group C                 high school  free/reduced   \n",
       "997  female        group C                 high school  free/reduced   \n",
       "998  female        group D                some college      standard   \n",
       "999  female        group D                some college  free/reduced   \n",
       "\n",
       "    test preparation course  math score  reading score  writing score  \n",
       "0                      none          72             72             74  \n",
       "1                 completed          69             90             88  \n",
       "2                      none          90             95             93  \n",
       "3                      none          47             57             44  \n",
       "4                      none          76             78             75  \n",
       "..                      ...         ...            ...            ...  \n",
       "995               completed          88             99             95  \n",
       "996                    none          62             55             55  \n",
       "997               completed          59             71             65  \n",
       "998               completed          68             78             77  \n",
       "999                    none          77             86             86  \n",
       "\n",
       "[1000 rows x 8 columns]"
      ]
     },
     "execution_count": 94,
     "metadata": {},
     "output_type": "execute_result"
    }
   ],
   "source": [
    "df"
   ]
  },
  {
   "cell_type": "code",
   "execution_count": 95,
   "metadata": {},
   "outputs": [
    {
     "data": {
      "text/plain": [
       "2"
      ]
     },
     "execution_count": 95,
     "metadata": {},
     "output_type": "execute_result"
    }
   ],
   "source": [
    "df.gender.nunique()"
   ]
  },
  {
   "cell_type": "code",
   "execution_count": 97,
   "metadata": {},
   "outputs": [
    {
     "data": {
      "text/plain": [
       "female    518\n",
       "male      482\n",
       "Name: gender, dtype: int64"
      ]
     },
     "execution_count": 97,
     "metadata": {},
     "output_type": "execute_result"
    }
   ],
   "source": [
    "df.gender.value_counts()"
   ]
  },
  {
   "cell_type": "code",
   "execution_count": 68,
   "metadata": {},
   "outputs": [],
   "source": [
    "def get_median (list_1):\n",
    "    if len(list_1)%2 == 0:\n",
    "        m_1 = int(len(list_1)/2)\n",
    "        m_2 =  m_1 + 1\n",
    "        m = ((list_1[m_1] + list_1[m_2])/2)\n",
    "        return m\n",
    "    if len(list_1)%2 != 0:\n",
    "        m_3 = int(len(list_1)/2)\n",
    "        n = list_1[m_3]\n",
    "    return n"
   ]
  },
  {
   "cell_type": "code",
   "execution_count": 80,
   "metadata": {},
   "outputs": [
    {
     "data": {
      "text/plain": [
       "6.5"
      ]
     },
     "execution_count": 80,
     "metadata": {},
     "output_type": "execute_result"
    }
   ],
   "source": [
    "get_median (list_1)"
   ]
  },
  {
   "cell_type": "code",
   "execution_count": 85,
   "metadata": {},
   "outputs": [],
   "source": [
    "def get_median (list_1):\n",
    "    if len(list_1)%2 == 0:\n",
    "        m_1 = int(len(list_1)/2)\n",
    "        m_2 =  m_1 + 1\n",
    "        m = ((list_1[m_1-1] + list_1[m_2-1])/2)\n",
    "        return m\n",
    "    if len(list_1)%2 != 0:\n",
    "        m_3 = int(len(list_1)/2)\n",
    "        n = list_1[m_3]\n",
    "    return n"
   ]
  },
  {
   "cell_type": "code",
   "execution_count": 86,
   "metadata": {},
   "outputs": [
    {
     "data": {
      "text/plain": [
       "5"
      ]
     },
     "execution_count": 86,
     "metadata": {},
     "output_type": "execute_result"
    }
   ],
   "source": [
    "get_median (list_1)"
   ]
  },
  {
   "cell_type": "code",
   "execution_count": 84,
   "metadata": {},
   "outputs": [],
   "source": [
    "list_1 = [1,2,3,4,5,6,7,8,9]"
   ]
  },
  {
   "cell_type": "code",
   "execution_count": 70,
   "metadata": {},
   "outputs": [],
   "source": [
    "a = int((len(list_1)/2)+1)"
   ]
  },
  {
   "cell_type": "code",
   "execution_count": 71,
   "metadata": {},
   "outputs": [],
   "source": [
    "b = int(len(list_1)/2)"
   ]
  },
  {
   "cell_type": "code",
   "execution_count": 72,
   "metadata": {},
   "outputs": [
    {
     "data": {
      "text/plain": [
       "5.5"
      ]
     },
     "execution_count": 72,
     "metadata": {},
     "output_type": "execute_result"
    }
   ],
   "source": [
    "c = (a+b)/2\n",
    "c"
   ]
  },
  {
   "cell_type": "code",
   "execution_count": null,
   "metadata": {},
   "outputs": [],
   "source": []
  },
  {
   "cell_type": "code",
   "execution_count": 73,
   "metadata": {},
   "outputs": [
    {
     "data": {
      "text/plain": [
       "6.5"
      ]
     },
     "execution_count": 73,
     "metadata": {},
     "output_type": "execute_result"
    }
   ],
   "source": [
    "get_median (list_1)"
   ]
  },
  {
   "cell_type": "code",
   "execution_count": 78,
   "metadata": {},
   "outputs": [],
   "source": [
    "def median (list_1):\n",
    "    if len(list_1)%2 != 0:\n",
    "        m_3 = int(len(list_1)/2 + 1)\n",
    "        n = list_1[m_3]\n",
    "    return n"
   ]
  },
  {
   "cell_type": "code",
   "execution_count": 79,
   "metadata": {},
   "outputs": [
    {
     "ename": "UnboundLocalError",
     "evalue": "local variable 'n' referenced before assignment",
     "output_type": "error",
     "traceback": [
      "\u001b[0;31m---------------------------------------------------------------------------\u001b[0m",
      "\u001b[0;31mUnboundLocalError\u001b[0m                         Traceback (most recent call last)",
      "\u001b[0;32m<ipython-input-79-6543481a809b>\u001b[0m in \u001b[0;36m<module>\u001b[0;34m\u001b[0m\n\u001b[0;32m----> 1\u001b[0;31m \u001b[0mmedian\u001b[0m\u001b[0;34m(\u001b[0m\u001b[0mlist_1\u001b[0m\u001b[0;34m)\u001b[0m\u001b[0;34m\u001b[0m\u001b[0;34m\u001b[0m\u001b[0m\n\u001b[0m",
      "\u001b[0;32m<ipython-input-78-151dc1661d13>\u001b[0m in \u001b[0;36mmedian\u001b[0;34m(list_1)\u001b[0m\n\u001b[1;32m      3\u001b[0m         \u001b[0mm_3\u001b[0m \u001b[0;34m=\u001b[0m \u001b[0mint\u001b[0m\u001b[0;34m(\u001b[0m\u001b[0mlen\u001b[0m\u001b[0;34m(\u001b[0m\u001b[0mlist_1\u001b[0m\u001b[0;34m)\u001b[0m\u001b[0;34m/\u001b[0m\u001b[0;36m2\u001b[0m \u001b[0;34m+\u001b[0m \u001b[0;36m1\u001b[0m\u001b[0;34m)\u001b[0m\u001b[0;34m\u001b[0m\u001b[0;34m\u001b[0m\u001b[0m\n\u001b[1;32m      4\u001b[0m         \u001b[0mn\u001b[0m \u001b[0;34m=\u001b[0m \u001b[0mlist_1\u001b[0m\u001b[0;34m[\u001b[0m\u001b[0mm_3\u001b[0m\u001b[0;34m]\u001b[0m\u001b[0;34m\u001b[0m\u001b[0;34m\u001b[0m\u001b[0m\n\u001b[0;32m----> 5\u001b[0;31m     \u001b[0;32mreturn\u001b[0m \u001b[0mn\u001b[0m\u001b[0;34m\u001b[0m\u001b[0;34m\u001b[0m\u001b[0m\n\u001b[0m",
      "\u001b[0;31mUnboundLocalError\u001b[0m: local variable 'n' referenced before assignment"
     ]
    }
   ],
   "source": [
    "median(list_1)"
   ]
  },
  {
   "cell_type": "code",
   "execution_count": 76,
   "metadata": {},
   "outputs": [
    {
     "data": {
      "text/plain": [
       "3"
      ]
     },
     "execution_count": 76,
     "metadata": {},
     "output_type": "execute_result"
    }
   ],
   "source": [
    "list_1[2]"
   ]
  },
  {
   "cell_type": "code",
   "execution_count": 103,
   "metadata": {},
   "outputs": [],
   "source": [
    "ticket_db = [{'price': 400}, {'price': 200}, {'price': 150}]    "
   ]
  },
  {
   "cell_type": "code",
   "execution_count": 104,
   "metadata": {},
   "outputs": [
    {
     "data": {
      "text/plain": [
       "{'price': 400}"
      ]
     },
     "execution_count": 104,
     "metadata": {},
     "output_type": "execute_result"
    }
   ],
   "source": [
    "ticket_db[0]"
   ]
  },
  {
   "cell_type": "code",
   "execution_count": 105,
   "metadata": {},
   "outputs": [
    {
     "data": {
      "text/plain": [
       "400"
      ]
     },
     "execution_count": 105,
     "metadata": {},
     "output_type": "execute_result"
    }
   ],
   "source": [
    "ticket_db[0]['price']"
   ]
  },
  {
   "cell_type": "code",
   "execution_count": 106,
   "metadata": {},
   "outputs": [
    {
     "name": "stdout",
     "output_type": "stream",
     "text": [
      "{'price': 400}\n",
      "{'price': 200}\n",
      "{'price': 150}\n"
     ]
    }
   ],
   "source": [
    "for price in ticket_db:\n",
    "    print (price)"
   ]
  },
  {
   "cell_type": "code",
   "execution_count": 107,
   "metadata": {},
   "outputs": [
    {
     "name": "stdout",
     "output_type": "stream",
     "text": [
      "400\n",
      "200\n",
      "150\n"
     ]
    }
   ],
   "source": [
    "for price in ticket_db:\n",
    "    print (price['price'])"
   ]
  },
  {
   "cell_type": "code",
   "execution_count": 150,
   "metadata": {},
   "outputs": [],
   "source": [
    "user_db = [{'orders': 12}, {'orders': 30}, {'orders': 45}]"
   ]
  },
  {
   "cell_type": "code",
   "execution_count": 157,
   "metadata": {},
   "outputs": [],
   "source": [
    "def avg_orders(user_db):\n",
    "    news_list = []\n",
    "    for order in user_db:\n",
    "        news_list.append(order['orders']) \n",
    "        avr_ord = sum(news_list)/len(user_db)\n",
    "        return avr_ord"
   ]
  },
  {
   "cell_type": "markdown",
   "metadata": {},
   "source": [
    "new_list = []\n",
    "for order in user_db:\n",
    "    new_list.append(order['orders'])\n",
    "print (sum(new_list))"
   ]
  },
  {
   "cell_type": "code",
   "execution_count": 158,
   "metadata": {},
   "outputs": [
    {
     "data": {
      "text/plain": [
       "4.0"
      ]
     },
     "execution_count": 158,
     "metadata": {},
     "output_type": "execute_result"
    }
   ],
   "source": [
    "avg_orders(user_db)"
   ]
  },
  {
   "cell_type": "code",
   "execution_count": 153,
   "metadata": {},
   "outputs": [
    {
     "data": {
      "text/plain": [
       "3"
      ]
     },
     "execution_count": 153,
     "metadata": {},
     "output_type": "execute_result"
    }
   ],
   "source": [
    "len(user_db)"
   ]
  },
  {
   "cell_type": "code",
   "execution_count": 154,
   "metadata": {},
   "outputs": [
    {
     "data": {
      "text/plain": [
       "87"
      ]
     },
     "execution_count": 154,
     "metadata": {},
     "output_type": "execute_result"
    }
   ],
   "source": [
    "sum(new_list)"
   ]
  },
  {
   "cell_type": "code",
   "execution_count": 156,
   "metadata": {},
   "outputs": [
    {
     "ename": "NameError",
     "evalue": "name 'news_list' is not defined",
     "output_type": "error",
     "traceback": [
      "\u001b[0;31m---------------------------------------------------------------------------\u001b[0m",
      "\u001b[0;31mNameError\u001b[0m                                 Traceback (most recent call last)",
      "\u001b[0;32m<ipython-input-156-8afd21eb9b5b>\u001b[0m in \u001b[0;36m<module>\u001b[0;34m\u001b[0m\n\u001b[0;32m----> 1\u001b[0;31m \u001b[0msum\u001b[0m\u001b[0;34m(\u001b[0m\u001b[0mnews_list\u001b[0m\u001b[0;34m)\u001b[0m\u001b[0;34m/\u001b[0m\u001b[0mlen\u001b[0m\u001b[0;34m(\u001b[0m\u001b[0muser_db\u001b[0m\u001b[0;34m)\u001b[0m\u001b[0;34m\u001b[0m\u001b[0;34m\u001b[0m\u001b[0m\n\u001b[0m",
      "\u001b[0;31mNameError\u001b[0m: name 'news_list' is not defined"
     ]
    }
   ],
   "source": [
    "sum(news_list)/len(user_db)"
   ]
  },
  {
   "cell_type": "code",
   "execution_count": null,
   "metadata": {},
   "outputs": [],
   "source": []
  }
 ],
 "metadata": {
  "kernelspec": {
   "display_name": "Python 3",
   "language": "python",
   "name": "python3"
  },
  "language_info": {
   "codemirror_mode": {
    "name": "ipython",
    "version": 3
   },
   "file_extension": ".py",
   "mimetype": "text/x-python",
   "name": "python",
   "nbconvert_exporter": "python",
   "pygments_lexer": "ipython3",
   "version": "3.7.6"
  }
 },
 "nbformat": 4,
 "nbformat_minor": 4
}
